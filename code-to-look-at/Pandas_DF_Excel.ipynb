{
 "cells": [
  {
   "cell_type": "markdown",
   "id": "6f4003fa-6811-4543-8f1d-427d10af28aa",
   "metadata": {},
   "source": [
    "## Outputting a Pandas Data Frame into Excel Spreadsheet File"
   ]
  },
  {
   "cell_type": "code",
   "execution_count": 2,
   "id": "794266e5-cd74-4cec-a8f4-874703e32f51",
   "metadata": {},
   "outputs": [],
   "source": [
    "import pandas as pd\n",
    "import numpy\n",
    "from pathlib import Path\n",
    "\n",
    "csv_file = Path(\"user_info/artwork_data.csv\")"
   ]
  },
  {
   "cell_type": "code",
   "execution_count": 4,
   "id": "006f590f-7662-4bc6-8bb2-7494e1bd9d80",
   "metadata": {},
   "outputs": [
    {
     "name": "stderr",
     "output_type": "stream",
     "text": [
      "C:\\Users\\khali\\AppData\\Local\\Temp\\ipykernel_9464\\3361902469.py:1: DtypeWarning: Columns (9,13) have mixed types. Specify dtype option on import or set low_memory=False.\n",
      "  df = pd.read_csv(csv_file, index_col='id')\n"
     ]
    }
   ],
   "source": [
    "df = pd.read_csv(csv_file, index_col='id')"
   ]
  },
  {
   "cell_type": "code",
   "execution_count": 8,
   "id": "6a3d6fb9-b206-43b6-9e33-e2a2a8ffe11d",
   "metadata": {},
   "outputs": [],
   "source": [
    "# Dumping a df into an excel file above code:"
   ]
  },
  {
   "cell_type": "code",
   "execution_count": 6,
   "id": "6244bea8-c216-45f6-9571-b616e0b5add4",
   "metadata": {},
   "outputs": [],
   "source": [
    "df.to_excel(\"user_info/df.xlsx\")"
   ]
  },
  {
   "cell_type": "code",
   "execution_count": 10,
   "id": "ba073fbf-ad83-4d56-a90b-0744bd1bbccb",
   "metadata": {},
   "outputs": [],
   "source": [
    "# removing indices (the id column with indexes)\n",
    "df.to_excel('user_info/df_with_no_indices.xlsx', index=False)"
   ]
  },
  {
   "cell_type": "code",
   "execution_count": 12,
   "id": "af050529-ced1-44cb-9504-39e430c65fb3",
   "metadata": {},
   "outputs": [],
   "source": [
    "# specifying the columns\n",
    "df.to_excel('user_info/cols_art.xlsx', columns=[\"artist\", \"title\", \"year\"])"
   ]
  },
  {
   "cell_type": "code",
   "execution_count": 20,
   "id": "b2a3cd5c-19df-4441-bcbf-2d63ad834678",
   "metadata": {},
   "outputs": [],
   "source": [
    "small_df = df.iloc[1:100, :]"
   ]
  },
  {
   "cell_type": "code",
   "execution_count": 35,
   "id": "14431ad4-69c0-465a-9a6c-5b0daae25f93",
   "metadata": {},
   "outputs": [
    {
     "name": "stdout",
     "output_type": "stream",
     "text": [
      "Collecting xlsxwriter\n",
      "  Downloading XlsxWriter-3.2.0-py3-none-any.whl.metadata (2.6 kB)\n",
      "Downloading XlsxWriter-3.2.0-py3-none-any.whl (159 kB)\n",
      "   ---------------------------------------- 0.0/159.9 kB ? eta -:--:--\n",
      "   -- ------------------------------------- 10.2/159.9 kB ? eta -:--:--\n",
      "   ------- ------------------------------- 30.7/159.9 kB 330.3 kB/s eta 0:00:01\n",
      "   ---------------------- ---------------- 92.2/159.9 kB 655.4 kB/s eta 0:00:01\n",
      "   ------------------------------- ------ 133.1/159.9 kB 877.7 kB/s eta 0:00:01\n",
      "   ------------------------------- ------ 133.1/159.9 kB 877.7 kB/s eta 0:00:01\n",
      "   ------------------------------- ------ 133.1/159.9 kB 877.7 kB/s eta 0:00:01\n",
      "   ------------------------------- ------ 133.1/159.9 kB 877.7 kB/s eta 0:00:01\n",
      "   ------------------------------- ------ 133.1/159.9 kB 877.7 kB/s eta 0:00:01\n",
      "   ------------------------------- ------ 133.1/159.9 kB 877.7 kB/s eta 0:00:01\n",
      "   ------------------------------- ------ 133.1/159.9 kB 877.7 kB/s eta 0:00:01\n",
      "   ------------------------------- ------ 133.1/159.9 kB 877.7 kB/s eta 0:00:01\n",
      "   -------------------------------------- 159.9/159.9 kB 290.6 kB/s eta 0:00:00\n",
      "Installing collected packages: xlsxwriter\n",
      "Successfully installed xlsxwriter-3.2.0\n"
     ]
    }
   ],
   "source": [
    "!pip install xlsxwriter"
   ]
  },
  {
   "cell_type": "code",
   "execution_count": null,
   "id": "2b9a75ad-919a-43dd-b3a8-815e7b12dc01",
   "metadata": {},
   "outputs": [],
   "source": [
    "# creating an excel with multiple worksheets\n",
    "writer = pd.ExcelWriter(\"multi-sheets.xlsx\", engine=\"xlsxwriter\")\n",
    "small_df.to_excel(writer, sheet_name=\"Small_Data_Frame\", index=False)\n",
    "df.to_excel(writer, sheet_name=\"Complete_Data_Frame\", index=False)\n",
    "writer.save() # this is replaced in newer versions\n",
    "writer.close()"
   ]
  },
  {
   "cell_type": "code",
   "execution_count": 48,
   "id": "aef3a34c-ddc1-4bc6-870a-84da18b61c74",
   "metadata": {},
   "outputs": [],
   "source": [
    "# applying conditional formatting with colors\n",
    "artist_counts = df['artist'].value_counts()\n",
    "writer = pd.ExcelWriter(\"colored-arts.xlsx\", engine=\"xlsxwriter\")\n",
    "artist_counts.to_excel(writer, sheet_name=\"Artist Counts\")\n",
    "sheet = writer.sheets['Artist Counts']\n",
    "cells_range = \"B2:B{}\".format(len(artist_counts.index))\n",
    "sheet.conditional_format(cells_range, {\n",
    "    \"type\": \"2_color_scale\",\n",
    "    \"min_value\": \"10\",\n",
    "    \"min_type\": \"percentile\",\n",
    "    \"max_type\": \"99\",\n",
    "    \"max_type\": \"percentile\"\n",
    "})\n",
    "writer.close()"
   ]
  },
  {
   "cell_type": "code",
   "execution_count": 51,
   "id": "edbda7c4-f51f-4086-8c43-23c99e6ed723",
   "metadata": {},
   "outputs": [
    {
     "name": "stderr",
     "output_type": "stream",
     "text": [
      "C:\\Users\\khali\\anaconda3\\Lib\\site-packages\\xlsxwriter\\workbook.py:369: UserWarning: Calling close() on already closed file.\n",
      "  warn(\"Calling close() on already closed file.\")\n"
     ]
    }
   ],
   "source": []
  }
 ],
 "metadata": {
  "kernelspec": {
   "display_name": "Python 3 (ipykernel)",
   "language": "python",
   "name": "python3"
  },
  "language_info": {
   "codemirror_mode": {
    "name": "ipython",
    "version": 3
   },
   "file_extension": ".py",
   "mimetype": "text/x-python",
   "name": "python",
   "nbconvert_exporter": "python",
   "pygments_lexer": "ipython3",
   "version": "3.12.4"
  }
 },
 "nbformat": 4,
 "nbformat_minor": 5
}
