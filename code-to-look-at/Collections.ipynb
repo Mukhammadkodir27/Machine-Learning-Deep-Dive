{
 "cells": [
  {
   "cell_type": "code",
   "execution_count": null,
   "id": "0a9d0e66-095e-4e02-8dc7-09ad6d2e687c",
   "metadata": {},
   "outputs": [],
   "source": [
    "df[\"ProdCategory\"].value_counts().plot(kind=\"barh\")"
   ]
  },
  {
   "cell_type": "code",
   "execution_count": null,
   "id": "28bd3034-e857-4bd9-891f-634942923767",
   "metadata": {},
   "outputs": [],
   "source": [
    "df = pd.read_csv(csv_path, nrows=5, index_col=\"id\", usecols=[\"id\", \"artist\"])"
   ]
  },
  {
   "cell_type": "code",
   "execution_count": null,
   "id": "d7eede49-385c-4256-805c-26e6cd4d4254",
   "metadata": {},
   "outputs": [],
   "source": [
    "cols_to_use = ['id', 'artist', 'title', 'medium', 'year', 'acquisitionYear', \n",
    "               'height', 'width', 'units']\n",
    "df = pd.read_csv(csv_path, index_col='id', usecols=cols_to_use)"
   ]
  },
  {
   "cell_type": "markdown",
   "id": "f620a78e-d4db-4590-a5b2-630055277303",
   "metadata": {},
   "source": [
    "=> Indexing"
   ]
  },
  {
   "cell_type": "code",
   "execution_count": null,
   "id": "f062f836-b1bf-4c7b-895f-c4c54cdbd081",
   "metadata": {},
   "outputs": [],
   "source": [
    "# access row 1035 from \"artist\" column\n",
    "df.loc[1035, \"artist\"]"
   ]
  },
  {
   "cell_type": "code",
   "execution_count": null,
   "id": "18735924-a711-4a72-af56-d4330cd7e18e",
   "metadata": {},
   "outputs": [],
   "source": [
    "# first row and first column\n",
    "df.iloc[0, 0]"
   ]
  },
  {
   "cell_type": "code",
   "execution_count": null,
   "id": "6753f475-52b5-4c14-9c34-58ac4896187e",
   "metadata": {},
   "outputs": [],
   "source": [
    "# first row and all columns\n",
    "df.iloc[0, :]"
   ]
  },
  {
   "cell_type": "code",
   "execution_count": null,
   "id": "c1d30e61-1aa9-4864-ad7f-fec892c5c0c1",
   "metadata": {},
   "outputs": [],
   "source": [
    "# two rows and two columns\n",
    "df.iloc[0:2, 0:2]  # 0 and 1, 0 and 1, 2 is not counted"
   ]
  },
  {
   "cell_type": "code",
   "execution_count": null,
   "id": "1caf920b-a7da-4926-8d2e-e0ad6bd8d750",
   "metadata": {},
   "outputs": [],
   "source": [
    "df['width'].sort_values().head()"
   ]
  },
  {
   "cell_type": "markdown",
   "id": "77e327fc-8cf9-48e2-80f6-4e289fb208a6",
   "metadata": {},
   "source": [
    "Here, to clean our data, we will select all non-numeric values and assign them a new data type called NaN (Not A Number) this means that our data will be separated, one goes for numeric values where we can perform our computations and other goes for garbage values which we can't use. Basically, those values are integers but technically they are not numeric, so computer does not know as of its naming, so what we will do is, when we convert them to NaN, it will skip those values. In other words, we dont count them in our operations"
   ]
  },
  {
   "cell_type": "code",
   "execution_count": null,
   "id": "9ac51cda-205c-431d-ab3d-2437a1ed09de",
   "metadata": {},
   "outputs": [],
   "source": [
    "pd.to_numeric(df['width'], errors=\"coerce\")"
   ]
  },
  {
   "cell_type": "code",
   "execution_count": null,
   "id": "cb88301b-55dc-457b-9666-62034c319b6c",
   "metadata": {},
   "outputs": [],
   "source": [
    "df.loc[:, 'width'] = pd.to_numeric(df['width'], errors=\"coerce\")"
   ]
  },
  {
   "cell_type": "code",
   "execution_count": null,
   "id": "894c7716-0901-4f27-856f-85da7fa7956f",
   "metadata": {},
   "outputs": [],
   "source": [
    "area = df['height'] * df['width'] # as NaN removed we can multiply both columns, read again above to understand what is going on"
   ]
  },
  {
   "cell_type": "code",
   "execution_count": null,
   "id": "b985d370-dd14-4d7d-a963-6399e72dcb4b",
   "metadata": {},
   "outputs": [],
   "source": [
    "# assign() is used to add a new column to our data frame\n",
    "df = df.assign(area=area)"
   ]
  },
  {
   "cell_type": "code",
   "execution_count": null,
   "id": "62e6bb3a-9e64-44c3-ab74-d0e4602b55c6",
   "metadata": {},
   "outputs": [],
   "source": [
    "df['area'].max()"
   ]
  },
  {
   "cell_type": "code",
   "execution_count": null,
   "id": "fc073362-0ea2-4214-9efe-5bd069334911",
   "metadata": {},
   "outputs": [],
   "source": [
    "df['area'].idxmax()   # returns the index of max value in this column"
   ]
  },
  {
   "cell_type": "code",
   "execution_count": null,
   "id": "5044c5f1-c811-48fd-ac8c-b7bf1b2b6074",
   "metadata": {},
   "outputs": [],
   "source": [
    "df.loc[df['area'].idxmax(), :]\n",
    "# it will take idxmax() position number as row index, and all others for column, then output the result\n",
    "# basically we will get all the column details for specific row number"
   ]
  },
  {
   "cell_type": "markdown",
   "id": "46dba0ab-35ea-4271-86d2-252b3d5f258f",
   "metadata": {},
   "source": [
    "=> Filtering"
   ]
  },
  {
   "cell_type": "code",
   "execution_count": 8,
   "id": "2404a37d-80e3-4660-a5bb-5e290ff68261",
   "metadata": {},
   "outputs": [],
   "source": [
    "# lets find out how many artworks belong to Blake William\n",
    "# first approach\n",
    "blake_william = df['artist'] == \"Blake, William\"\n",
    "blake_william.value_counts()"
   ]
  },
  {
   "cell_type": "code",
   "execution_count": null,
   "id": "e68206da-3e66-49a5-822e-c62d1fab70d8",
   "metadata": {},
   "outputs": [],
   "source": [
    "# second approach\n",
    "artist_count = df['artist'].value_counts()\n",
    "artist_count['Jones, George']"
   ]
  },
  {
   "cell_type": "markdown",
   "id": "5990c655-0fe9-47ff-91eb-0ed944af5deb",
   "metadata": {},
   "source": [
    "=> excel & csv"
   ]
  },
  {
   "cell_type": "code",
   "execution_count": null,
   "id": "ecc87780-c715-43ac-973e-49bad1e40486",
   "metadata": {},
   "outputs": [],
   "source": [
    "# reading data from excel file\n",
    "sales = pd.read_excel(excel_path)\n",
    "sales = pd.read_excel(excel_path, sheet_name='sales', header=None)"
   ]
  },
  {
   "cell_type": "code",
   "execution_count": null,
   "id": "aa7aa2d1-48ea-4cd9-8e42-493c7d244ab6",
   "metadata": {},
   "outputs": [],
   "source": [
    "# to save this xlsx file to csv file\n",
    "sales.to_csv('sales2.csv')\n",
    "sales.to_excel('sales2.xlsx')"
   ]
  },
  {
   "cell_type": "code",
   "execution_count": null,
   "id": "a5fadb3e-f96a-4476-8dcc-7a9af263357a",
   "metadata": {},
   "outputs": [],
   "source": [
    "titanic.describe(include = 'O')"
   ]
  },
  {
   "cell_type": "code",
   "execution_count": null,
   "id": "c571c0cc-85a5-4286-9897-ddb61eb8cc6d",
   "metadata": {},
   "outputs": [],
   "source": [
    "titanic.Survived.replace(to_replace=[\"yes\", \"no\"], value=[1, 0], inplace=True)\n",
    "# new version\n",
    "titanic['Survived'] = titanic['Survived'].replace(to_replace=['yes', 'no'], value=[1, 0])"
   ]
  },
  {
   "cell_type": "code",
   "execution_count": null,
   "id": "66405262-bd9e-4525-b97f-4f7ba4caf79f",
   "metadata": {},
   "outputs": [],
   "source": [
    "# changing the name of a column\n",
    "summer.rename(columns={'Athlete': 'Athlete_Name'}, inplace=True)"
   ]
  },
  {
   "cell_type": "code",
   "execution_count": null,
   "id": "981027d3-da30-4b49-b94f-3bc4f4cf6272",
   "metadata": {},
   "outputs": [],
   "source": [
    "pd.to_numeric(titanic.Fare)\n",
    "# when these is a string like $75.0 pandas cant recognize this\n",
    "titanic.Fare.str.replace('$', '')"
   ]
  },
  {
   "cell_type": "code",
   "execution_count": null,
   "id": "4872ad49-e48d-4dfe-9db7-d31d518f67ef",
   "metadata": {},
   "outputs": [],
   "source": [
    "summer.Athlete_Name.str.title() # here it capitilized their name to be more consice\n",
    "summer.Athlete_Name.str.strip()\n",
    "summer.loc[summer.Athlete_Name == 'PHELPS, Michael'].head(3)"
   ]
  },
  {
   "cell_type": "code",
   "execution_count": null,
   "id": "87e5ddfc-b122-43f4-8d13-b2164893cb1c",
   "metadata": {},
   "outputs": [],
   "source": [
    "pd.to_numeric(titanic.Fare)\n",
    "titanic['Fare'] = titanic.Fare.astype('float')\n",
    "titanic['Survived'] = titanic.Survived.astype('int')\n",
    "titanic['Age'] = titanic.Age.astype('float')"
   ]
  },
  {
   "cell_type": "markdown",
   "id": "4fa312ca-6cef-4914-b3dd-2010f36b36a5",
   "metadata": {},
   "source": [
    "=> NA value Detection"
   ]
  },
  {
   "cell_type": "code",
   "execution_count": null,
   "id": "61cce503-2873-44e8-a8f6-4f18bab1dd85",
   "metadata": {},
   "outputs": [],
   "source": [
    "titanic.isna()\n",
    "titanic.isna().sum()\n",
    "titanic.isna().sum(axis=0)\n",
    "titanic.isna().any()\n",
    "titanic.isna().all()\n",
    "titanic[titanic.isna().any(axis=1)]"
   ]
  },
  {
   "cell_type": "code",
   "execution_count": null,
   "id": "38b81d9e-d970-4762-bc4d-3a3b66b8b432",
   "metadata": {},
   "outputs": [],
   "source": [
    "titanic.notna()  # opposite for isna()\n",
    "titanic.notna().sum()\n",
    "titanic.notna().sum(axis=0)\n",
    "titanic.notna().all()\n",
    "titanic.notna().any()"
   ]
  },
  {
   "cell_type": "code",
   "execution_count": null,
   "id": "65d52cc9-0b9b-4cb7-9bb3-8fc3d69c9ac5",
   "metadata": {},
   "outputs": [],
   "source": [
    "titanic.duplicated().sum()"
   ]
  },
  {
   "cell_type": "code",
   "execution_count": null,
   "id": "8aa357be-ad15-4ef2-849f-315054302355",
   "metadata": {},
   "outputs": [],
   "source": [
    "titanic.drop_duplicates(inplace=True)"
   ]
  },
  {
   "cell_type": "code",
   "execution_count": null,
   "id": "bc698a95-083f-4768-8631-a7c577030c30",
   "metadata": {},
   "outputs": [],
   "source": [
    "titanic.dropna(inplace=True)"
   ]
  },
  {
   "cell_type": "code",
   "execution_count": null,
   "id": "3e8d9f19-b4bb-4ea4-a178-6327729b4426",
   "metadata": {},
   "outputs": [],
   "source": [
    "plt.figure(figsize=(6, 6))\n",
    "sns.heatmap(titanic.notna())"
   ]
  },
  {
   "cell_type": "code",
   "execution_count": null,
   "id": "01acf96a-086f-48de-bd9f-889276c3c539",
   "metadata": {},
   "outputs": [],
   "source": [
    "sns.heatmap(titanic.isna())"
   ]
  },
  {
   "cell_type": "code",
   "execution_count": null,
   "id": "00203df6-0a18-4b62-835d-0814af656ee0",
   "metadata": {},
   "outputs": [],
   "source": [
    "titanic.Age.mean(skipna=True)"
   ]
  },
  {
   "cell_type": "code",
   "execution_count": null,
   "id": "d9d70dd1-b776-4980-a833-c5f5e99b9edc",
   "metadata": {},
   "outputs": [],
   "source": [
    "titanic['Age'] = titanic['Age'].fillna(titanic.Age.mean(skipna=True))"
   ]
  },
  {
   "cell_type": "code",
   "execution_count": null,
   "id": "f665209c-2a70-4fc8-970c-a32f1bb49d04",
   "metadata": {},
   "outputs": [],
   "source": [
    "most_freq = titanic['Cabin'].value_counts().idxmax()"
   ]
  },
  {
   "cell_type": "code",
   "execution_count": null,
   "id": "542fba86-d671-46a3-90f2-2aea6922e2ef",
   "metadata": {},
   "outputs": [],
   "source": [
    "titanic['Cabin'] = titanic['Cabin'].fillna(most_freq)"
   ]
  },
  {
   "cell_type": "markdown",
   "id": "3dd93e37-d175-4eb8-8294-62328d29f643",
   "metadata": {},
   "source": [
    "=> Data Inspection"
   ]
  },
  {
   "cell_type": "code",
   "execution_count": null,
   "id": "765c243f-4650-4bbb-ab1d-93ddcd460c5c",
   "metadata": {},
   "outputs": [],
   "source": [
    "titanic.size # number of rows * number of columns"
   ]
  },
  {
   "cell_type": "code",
   "execution_count": null,
   "id": "3aaa0ea4-17f4-433f-9bb5-376c67393bf4",
   "metadata": {},
   "outputs": [],
   "source": [
    "# you can set max display row options and min display options for better reading\n",
    "pd.options.display.max_rows = 100\n",
    "pd.options.display.min_rows = 30\n",
    "# by default they are:\n",
    "pd.options.display.max_rows = 60 # 10\n",
    "pd.options.display.min_rows = None"
   ]
  },
  {
   "cell_type": "code",
   "execution_count": null,
   "id": "76d4f087-883d-4e02-8ead-ead28f1d53f6",
   "metadata": {},
   "outputs": [],
   "source": [
    "titanic.min(numeric_only=True)\n",
    "titanic.max(numeric_only=True)\n",
    "titanic.mean(numeric_only=True)\n",
    "titanic.mean(numeric_only=True).sort_values()"
   ]
  },
  {
   "cell_type": "code",
   "execution_count": null,
   "id": "c72eb385-0d88-4689-a869-1f3216827b93",
   "metadata": {},
   "outputs": [],
   "source": [
    "titanic.sort_values(by = 'Age', ascending=False)"
   ]
  },
  {
   "cell_type": "code",
   "execution_count": 21,
   "id": "01ed9a06-e9f2-4fd9-a003-aadc8d2427e4",
   "metadata": {},
   "outputs": [],
   "source": [
    "# you can set index_col to string and use loc['string'] to get that data\n",
    "titanic = pd.read_csv(csv_path, index_col='Name')"
   ]
  },
  {
   "cell_type": "code",
   "execution_count": null,
   "id": "a434c36b-1c99-4351-be0b-59ad032a8a5d",
   "metadata": {},
   "outputs": [],
   "source": [
    "titanic.loc['Barkworth, Mr. Algernon Henry Wilson']\n",
    "# this works not only for columns titanic.loc[:, 'Names']\n",
    "# reindex() is used with time series"
   ]
  },
  {
   "cell_type": "markdown",
   "id": "e78cd66e-373e-48fb-ba9a-a3cb19fe3a90",
   "metadata": {},
   "source": [
    "=> Pandas Series"
   ]
  },
  {
   "cell_type": "code",
   "execution_count": null,
   "id": "370f1c2b-20e6-464e-a30a-0b7567b255c2",
   "metadata": {},
   "outputs": [],
   "source": [
    "age = titanic.Age # created a pandas series from pandas dataframe"
   ]
  },
  {
   "cell_type": "code",
   "execution_count": null,
   "id": "47765c83-18ee-4a9f-a5eb-895c0ce372e0",
   "metadata": {},
   "outputs": [],
   "source": [
    "age.to_frame().info()"
   ]
  },
  {
   "cell_type": "code",
   "execution_count": null,
   "id": "c395752d-b648-4358-a53a-1f6c3e084ab1",
   "metadata": {},
   "outputs": [],
   "source": [
    "age.to_frame() # names is index column, so only Age column is counted"
   ]
  },
  {
   "cell_type": "code",
   "execution_count": null,
   "id": "08f80dc9-d8f3-4809-bbea-27a868e01849",
   "metadata": {},
   "outputs": [],
   "source": [
    "age.sum(skipna=True)"
   ]
  },
  {
   "cell_type": "code",
   "execution_count": null,
   "id": "2b07c194-12d0-485a-b8ec-be619108e35e",
   "metadata": {},
   "outputs": [],
   "source": [
    "sum(age) # wrong because Nan, cannot handle missing values"
   ]
  },
  {
   "cell_type": "code",
   "execution_count": null,
   "id": "9f3268e1-6217-453c-8769-5b07f5c70a36",
   "metadata": {},
   "outputs": [],
   "source": [
    "age.meadian(skipna=True)"
   ]
  },
  {
   "cell_type": "code",
   "execution_count": null,
   "id": "b73d7c1b-b04d-45aa-b285-dfca7fa94776",
   "metadata": {},
   "outputs": [],
   "source": [
    "len(age.unique()) # to get the number of unique values\n",
    "# dropna = True, because in len() NAs are also counted\n",
    "age.nunique(dropna=True)"
   ]
  },
  {
   "cell_type": "code",
   "execution_count": null,
   "id": "b4dc1814-f7de-40fe-8cf1-89bf3123d8d3",
   "metadata": {},
   "outputs": [],
   "source": [
    "age.value_counts(sort=True, dropna=True, ascending=False, normalize=True)\n",
    "# here in percentage results are give, 42% of passangers were aged 24 and so on..."
   ]
  },
  {
   "cell_type": "code",
   "execution_count": null,
   "id": "5879ab92-2f9a-4e25-b114-b5c698e2e704",
   "metadata": {},
   "outputs": [],
   "source": [
    "people = titanic.people\n",
    "for person in people:\n",
    "    print(person)"
   ]
  },
  {
   "cell_type": "code",
   "execution_count": null,
   "id": "47bc05fa-a54f-41e2-95e5-3801d9b53cb7",
   "metadata": {},
   "outputs": [],
   "source": [
    "titanic.people.value_counts()"
   ]
  },
  {
   "cell_type": "code",
   "execution_count": null,
   "id": "8ca5424a-07f3-4ab9-a51c-2c460d4649c2",
   "metadata": {},
   "outputs": [],
   "source": [
    "titanic.columns"
   ]
  },
  {
   "cell_type": "markdown",
   "id": "6ba2dea4-bd97-4679-83c6-a0123b63b4e9",
   "metadata": {},
   "source": [
    "=> Analysing non-numerical Series"
   ]
  },
  {
   "cell_type": "code",
   "execution_count": null,
   "id": "10cfeed0-c063-4dd0-9db0-f3d7c8bb9321",
   "metadata": {},
   "outputs": [],
   "source": [
    "athlete = titanic.Athlete # creating a pandas series from pandas DF"
   ]
  },
  {
   "cell_type": "code",
   "execution_count": null,
   "id": "672682a4-a15a-4e6d-b991-62a876de70f9",
   "metadata": {},
   "outputs": [],
   "source": [
    "athlete.size\n",
    "athlete.nunique(dropna=True)\n",
    "athlete.value_counts()\n",
    "athlete.value_counts(sort=True)\n",
    "athlete.value_counts(sort=True, ascending=False, normalize=True)"
   ]
  },
  {
   "cell_type": "markdown",
   "id": "1474ff25-3e71-441e-84d6-b5b4434a92fd",
   "metadata": {},
   "source": [
    "Normalization rescales feature values within a predefined range, often between 0 and 1, which is particularly useful for models where the scale of features varies greatly. In contrast, standardization centers data around the mean (0) and scales it according to the standard deviation (1)."
   ]
  },
  {
   "cell_type": "code",
   "execution_count": null,
   "id": "ee495c41-c0d6-4b45-afea-71df144dafb0",
   "metadata": {},
   "outputs": [],
   "source": [
    "age.sort_index() # sort by their index number\n",
    "age.sort_values() # sort by their values\n",
    "age.sort_index(inplace=True) # this will make changes to the original data not a copy"
   ]
  },
  {
   "cell_type": "code",
   "execution_count": null,
   "id": "6cad0e2e-a704-4b4d-9026-b8335edc6df8",
   "metadata": {},
   "outputs": [],
   "source": [
    "# nlargest() & nsmalles()\n",
    "# this will return the number of largest or smallest values\n",
    "age.nlargest(3) # 3 largest values return\n",
    "age.nsmallest(4) # 4 smallest values return"
   ]
  },
  {
   "cell_type": "code",
   "execution_count": null,
   "id": "f589a527-469f-4455-b00f-49b0191f74d8",
   "metadata": {},
   "outputs": [],
   "source": [
    "age.sort_values(ascending=True).iloc[:4] #start from beginning till 3 row, it is series\n",
    "# what i mean, :3, from start till 3, no need for column part as it is 1d array"
   ]
  },
  {
   "cell_type": "code",
   "execution_count": null,
   "id": "0971c9a7-4361-4e6e-b7fc-b32271dcc9f0",
   "metadata": {},
   "outputs": [],
   "source": [
    "age.iloc[2] = 20\n",
    "age.iloc[0] = 101  # we can assign new values to them by indexing"
   ]
  },
  {
   "cell_type": "code",
   "execution_count": null,
   "id": "60eaa61d-8f05-4e76-8266-83c53a0f46bd",
   "metadata": {},
   "outputs": [],
   "source": [
    "titanic[titanic.Sex == 'Male']"
   ]
  },
  {
   "cell_type": "code",
   "execution_count": null,
   "id": "425a07ab-db71-4c64-9ea9-d07ba1e9f0d1",
   "metadata": {},
   "outputs": [],
   "source": [
    "only_male = titanic.Sex == 'Male'"
   ]
  },
  {
   "cell_type": "code",
   "execution_count": null,
   "id": "10d93908-81f6-45f1-9ad7-506978a339a5",
   "metadata": {},
   "outputs": [],
   "source": [
    "titanic[only_male].head()"
   ]
  },
  {
   "cell_type": "code",
   "execution_count": null,
   "id": "baa1cfd4-b234-42b4-afe8-174a9f4361c5",
   "metadata": {},
   "outputs": [],
   "source": [
    "titanic[titanic.Age > 25]"
   ]
  },
  {
   "cell_type": "code",
   "execution_count": null,
   "id": "2c2048e2-85fe-4819-874e-9174d513727e",
   "metadata": {},
   "outputs": [],
   "source": [
    "age = titanic.Age > 25\n",
    "(only_male & age)"
   ]
  },
  {
   "cell_type": "markdown",
   "id": "c7012b4c-09d3-4b84-9ab4-44f605e63a75",
   "metadata": {},
   "source": [
    "=> Remove Columns"
   ]
  },
  {
   "cell_type": "code",
   "execution_count": null,
   "id": "f6926ca3-a123-4366-8949-ea59644e8e23",
   "metadata": {},
   "outputs": [],
   "source": [
    "# to remove columns use df.drop(columns='columnName')\n",
    "titanic.drop(columns='PassengerId', inplace=True)"
   ]
  },
  {
   "cell_type": "markdown",
   "id": "580e2f6d-712e-4632-add0-1641bc1f45bb",
   "metadata": {},
   "source": [
    "=> Remove Rows"
   ]
  },
  {
   "cell_type": "code",
   "execution_count": null,
   "id": "f32d24a4-0157-4767-ac27-0b33da323d63",
   "metadata": {},
   "outputs": [],
   "source": [
    "rows_to_delete = list(range(0, 100))\n",
    "titanic.drop(index = rows_to_delete)"
   ]
  },
  {
   "cell_type": "code",
   "execution_count": null,
   "id": "6d031914-8e60-4cd1-858c-097bccea2489",
   "metadata": {},
   "outputs": [],
   "source": [
    "(titanic.Year == 1996).value_counts()"
   ]
  },
  {
   "cell_type": "code",
   "execution_count": null,
   "id": "1cb4fe6d-fd12-4a5b-aa04-cd14b08b42d6",
   "metadata": {},
   "outputs": [],
   "source": [
    "1996 in titanic.Year.values\n",
    "# True or False"
   ]
  },
  {
   "cell_type": "code",
   "execution_count": null,
   "id": "42920271-6c63-492b-aea1-c620aa3cda5f",
   "metadata": {},
   "outputs": [],
   "source": [
    "# to create new column and add to specific location\n",
    "relatives = titanic.Siblings + titanic.Parents\n",
    "titanic.insert(loc=5, column='relatives', value=relatives)"
   ]
  },
  {
   "cell_type": "markdown",
   "id": "b1d851ef-8ac9-4147-8d68-559e91a9a65e",
   "metadata": {},
   "source": [
    "=> Sorting DF with sort_index() and sort_values()"
   ]
  },
  {
   "cell_type": "code",
   "execution_count": null,
   "id": "5a674a46-3e7d-4525-ba93-130869c2801c",
   "metadata": {},
   "outputs": [],
   "source": [
    "titanic.Age.sort_values(ascending=False)\n",
    "titanic.sort_values(by=['Age', 'Siblings', 'Pclass'])"
   ]
  },
  {
   "cell_type": "markdown",
   "id": "2ca3ef35-06f6-496d-878e-3ec889b33374",
   "metadata": {},
   "source": [
    "=> rank()"
   ]
  },
  {
   "cell_type": "code",
   "execution_count": null,
   "id": "27bac7d2-3ead-484b-b2f7-d5772a77ac40",
   "metadata": {},
   "outputs": [],
   "source": [
    "titanic.Age.rank()\n",
    "titanic.Age.rank(numeric_only = True)"
   ]
  },
  {
   "cell_type": "code",
   "execution_count": null,
   "id": "300e00c3-0f4d-4055-9a14-5e1d6086f195",
   "metadata": {},
   "outputs": [],
   "source": [
    "titanic.count(axis = 0) # 0 for rows\n",
    "titanic.count(axis = 1) # 1 for columns"
   ]
  },
  {
   "cell_type": "code",
   "execution_count": null,
   "id": "d07b7d81-3611-460f-b2a7-118ebed72906",
   "metadata": {},
   "outputs": [],
   "source": [
    "titanic.count(axis = 'index')\n",
    "titanic.count(axis = 0, numeric_only = True) # how many rows in each column\n",
    "titanic.count(axis = 1, numeric_only = True) # how many columns in each row"
   ]
  },
  {
   "cell_type": "markdown",
   "id": "2bd74ec3-67b0-415c-9b6c-417de0ac2d34",
   "metadata": {},
   "source": [
    "=> Matplotlib"
   ]
  },
  {
   "cell_type": "code",
   "execution_count": null,
   "id": "79d70e2c-d1c4-4c4c-a09e-972e276c042d",
   "metadata": {},
   "outputs": [],
   "source": [
    "matplotlib.is_interactive()\n",
    "%matplotlib --list\n",
    "matplotlib.get_backend()"
   ]
  },
  {
   "cell_type": "code",
   "execution_count": null,
   "id": "13c140c2-fd8c-4fd1-a661-2fb1abe277a6",
   "metadata": {},
   "outputs": [],
   "source": [
    "plt.xlabel('X coordinates', fontsize=14, color='blue')\n",
    "plt.ylabel('Y coordinates', fontsize=14, color='red')"
   ]
  },
  {
   "cell_type": "code",
   "execution_count": null,
   "id": "d7838231-4424-4f21-b2a6-f11fa9739f2c",
   "metadata": {},
   "outputs": [],
   "source": [
    "titanic.Age.plot(label='Age', color='green', linestyle='--', linewidth=2, marker='d',\n",
    "                markersize=7, )"
   ]
  },
  {
   "cell_type": "markdown",
   "id": "23622c1e-4fe6-4678-b117-ab388b689556",
   "metadata": {},
   "source": [
    "=> Group By"
   ]
  },
  {
   "cell_type": "code",
   "execution_count": null,
   "id": "e4d80055-1b01-4957-bc6d-03e588deea9e",
   "metadata": {},
   "outputs": [],
   "source": [
    "group_by_sex = titanic.groupby('Sex')"
   ]
  },
  {
   "cell_type": "code",
   "execution_count": null,
   "id": "22203ab0-5824-43a3-982d-73caec2c7a3e",
   "metadata": {},
   "outputs": [],
   "source": [
    "group_by_age = titanic.groupby('Age').size() "
   ]
  },
  {
   "cell_type": "code",
   "execution_count": null,
   "id": "e8d01f63-f287-4781-a34b-ffd21bd329d7",
   "metadata": {},
   "outputs": [],
   "source": [
    "group_by_sex.groups"
   ]
  },
  {
   "cell_type": "code",
   "execution_count": null,
   "id": "bda3b657-e7bd-4ef7-a677-358a55ef5a41",
   "metadata": {},
   "outputs": [],
   "source": [
    "len(list(group_by_sex)) # 2 as gender: male and female\n",
    "group_by_sex[0][0] # female\n",
    "group_by_sex[1][0] # male"
   ]
  },
  {
   "cell_type": "code",
   "execution_count": null,
   "id": "b6de103f-2440-4c10-97ba-a2712075a0eb",
   "metadata": {},
   "outputs": [],
   "source": [
    "split = titanic.groupby(by=['Sex', 'Survived'])\n",
    "for s in split:\n",
    "    print(s[0])"
   ]
  },
  {
   "cell_type": "markdown",
   "id": "3a95cdd4-b20a-4e97-842b-de8b4dee4253",
   "metadata": {},
   "source": [
    "=> Seaborn"
   ]
  },
  {
   "cell_type": "code",
   "execution_count": null,
   "id": "e50885d3-0ddf-4370-9ebb-da40a43daaa2",
   "metadata": {},
   "outputs": [],
   "source": [
    "# bar plot for categorical data\n",
    "plt.figure(figsize=(5, 5))\n",
    "sns.countplot(data = titanic, x = 'Sex')\n",
    "sns.countplot(data = titanic, y = 'Sex') # y -> vertical\n",
    "# countplot shows the number of observations in each categorical bin using bars"
   ]
  },
  {
   "cell_type": "code",
   "execution_count": null,
   "id": "f2e70af7-3ec6-4759-ab14-684c12808f06",
   "metadata": {},
   "outputs": [],
   "source": [
    "# bar plot for categorical data\n",
    "plt.figure(figsize=(4, 4))\n",
    "sns.countplot(data = titanic, x = 'Sex', hue='Survived') # hue -> add column"
   ]
  },
  {
   "cell_type": "code",
   "execution_count": null,
   "id": "5f7d9f7b-efa3-40d2-a413-ed98eea6ecdc",
   "metadata": {},
   "outputs": [],
   "source": [
    "# bar plot for categorical data\n",
    "plt.figure(figsize=(5, 5))\n",
    "sns.set(font_scale=1.5, palette='viridis')\n",
    "sns.countplot(data = titanic, x='Sex', hue='Pclass')"
   ]
  },
  {
   "cell_type": "code",
   "execution_count": null,
   "id": "37bb4a75-58f9-40f6-98b9-3f143448f544",
   "metadata": {},
   "outputs": [],
   "source": [
    "# categorical plots\n",
    "# scatter plot kinda\n",
    "sns.stripplot(data=titanic, x='Sex', y='Age', jitter=True, hue='Survived', dodge=True)"
   ]
  },
  {
   "cell_type": "code",
   "execution_count": null,
   "id": "cd5ed65a-f2e8-436f-a376-4d76cbbe2748",
   "metadata": {},
   "outputs": [],
   "source": [
    "# kinda scatter plot\n",
    "sns.swarmplot(data=titanic, x='Sex', y='Age', hue='Pclass', dodge=True)"
   ]
  },
  {
   "cell_type": "code",
   "execution_count": null,
   "id": "91b4c1f5-e869-456a-8927-b3c598cf0129",
   "metadata": {},
   "outputs": [],
   "source": [
    "# violin plot\n",
    "sns.violinplot(data=titanic, x='Sex', y='Age', hue='Survived', dodge=True) # ,split=True"
   ]
  },
  {
   "cell_type": "code",
   "execution_count": null,
   "id": "57783b7f-cbf2-4deb-bf77-d64f5a3b5b07",
   "metadata": {},
   "outputs": [],
   "source": [
    "# scatter plot and violion plot on the same container or plotting area\n",
    "sns.violinplot(data=titanic, x='Sex', y='Age', hue='Pclass', dodge=True)\n",
    "sns.swarmplot(data=titanic, x='Sex', y='Age', hue='Pclass', dodge=True, color='black')"
   ]
  },
  {
   "cell_type": "code",
   "execution_count": null,
   "id": "c133e516-2a89-4a49-855e-e21a14fc9007",
   "metadata": {},
   "outputs": [],
   "source": [
    "# bar plot\n",
    "sns.barplot(data=titanic, x='Sex', y='Age', hue='Pclass', dodge=True)"
   ]
  },
  {
   "cell_type": "code",
   "execution_count": null,
   "id": "6349103e-a8c3-4791-b19f-37e790b6d8a1",
   "metadata": {},
   "outputs": [],
   "source": [
    "# point plot\n",
    "plt.figure(figsize=(5, 5))\n",
    "sns.set(font_scale=1.5, palette='viridis')\n",
    "sns.pointplot(data=titanic, x='Pclass', y='Age', hue='Sex', dodge=True)"
   ]
  },
  {
   "cell_type": "code",
   "execution_count": null,
   "id": "1402c656-c7d8-43f8-bf3b-7fcb30e654aa",
   "metadata": {},
   "outputs": [],
   "source": [
    "# joint plot - linear regression model\n",
    "sns.jointplot(data=titanic, x='Age', y='Fare', height = 6, kind = 'reg') #'kde', 'scatter'\n",
    "# by 'reg' we can draw regression line\n",
    "# up and right side you can see frequency distribution"
   ]
  },
  {
   "cell_type": "code",
   "execution_count": null,
   "id": "39ff0e55-4910-4534-9f15-07ec2c6ca119",
   "metadata": {},
   "outputs": [],
   "source": [
    "# linear regression model plot\n",
    "sns.lmplot(data=titanic, x='Age', y='Fare', aspect = 1, height = 6, col = 'Sex')\n",
    "# sns.lmplot(data=titanic, x='Age', y='Fare', aspect = 1, height = 6, row = 'Sex')\n",
    "# sns.lmplot(data=titanic, x='Age', y='Fare', aspect = 1, height = 6, hue = 'Sex')"
   ]
  },
  {
   "cell_type": "code",
   "execution_count": null,
   "id": "f8515db9-7e2b-48dc-96a7-0fc6607b2885",
   "metadata": {},
   "outputs": [],
   "source": [
    "# linear regression model plot\n",
    "sns.lmplot(data=titanic, x='Age', y='Survived', aspect=1, height=6, \n",
    "           col='Sex', logistic=True)"
   ]
  },
  {
   "cell_type": "code",
   "execution_count": null,
   "id": "2d86a993-3f7b-4d7e-b064-2ab45eeef487",
   "metadata": {},
   "outputs": [],
   "source": [
    "# cross table\n",
    "pd.crosstab(titanic.Sex, titanic.Survived)"
   ]
  },
  {
   "cell_type": "code",
   "execution_count": null,
   "id": "c728fb6e-77b1-4e0a-b9b9-0c9ae2c701cd",
   "metadata": {},
   "outputs": [],
   "source": [
    "# heatmap\n",
    "sns.heatmap(pd.crosstab(titanic.Sex, titanic.Survived), annot=True, \n",
    "           fmt='d', cmap='Reds', vmax=100) \n",
    "# vmax -> to set a limit, ex: above 100 is dark red\n",
    "# cmap -> color type"
   ]
  },
  {
   "cell_type": "markdown",
   "id": "9ae4e3c0-f745-4614-a9f9-57f0574691a0",
   "metadata": {},
   "source": [
    "=> complex plotting"
   ]
  },
  {
   "cell_type": "code",
   "execution_count": null,
   "id": "b9a988be-58c5-4ffe-80ed-1cd96ad04cc6",
   "metadata": {},
   "outputs": [],
   "source": [
    "rcParams.update({\"figure.autolayout\":True, \"axes.titlepad\": 20})\n",
    "plt.rcParams['figure.figsize'] = (20, 10)\n",
    "title_font = {\n",
    "    'family':'times new roman', \n",
    "    'color': 'darkblue',\n",
    "    'weight': 'normal',\n",
    "    'size': 24,\n",
    "}\n",
    "labels_font = {\n",
    "    'family': 'consolas',\n",
    "    'color': 'darkred',\n",
    "    'weight': 'normal',\n",
    "    'size': 20,\n",
    "}\n",
    "fig = plt.figure()\n",
    "subplot = fig.add_subplot(1, 1, 1)\n",
    "acquisition_year.plot(ax=subplot, rot=45, logy=True, grid=True) #rot will rotate years position\n",
    "subplot.set_xlabel('Acquisition Year', fontdict=labels_font, labelpad=10)\n",
    "subplot.set_ylabel('Artworks Acquired', fontdict=labels_font, labelpad=10)\n",
    "subplot.set_title('Tate Gallery Acquisitions', fontdict=title_font)\n",
    "plt.xticks(fontsize=16)\n",
    "plt.yticks(fontsize=18)\n",
    "subplot.locator_params(nbins=50, axis='x') "
   ]
  },
  {
   "cell_type": "code",
   "execution_count": null,
   "id": "098b7ced-d960-488d-9958-2c7c20ad4bd1",
   "metadata": {},
   "outputs": [],
   "source": [
    "# save this graph to png format\n",
    "fig.savefig('user_info/plot1.png')"
   ]
  },
  {
   "cell_type": "code",
   "execution_count": null,
   "id": "97032d4e-e2f1-4d91-961c-00a88cb3c5f6",
   "metadata": {},
   "outputs": [],
   "source": [
    "# svg format - scalable vector graphics\n",
    "fig.savefig('user_info/plot2.svg')"
   ]
  },
  {
   "cell_type": "markdown",
   "id": "8d8e3f81-b96a-47b6-bd9d-541224500bfd",
   "metadata": {},
   "source": [
    "=> Additional Plots"
   ]
  },
  {
   "cell_type": "code",
   "execution_count": null,
   "id": "23100cf4-cdfb-4974-8b22-f12b414ef615",
   "metadata": {},
   "outputs": [],
   "source": [
    "titanic.Survived.value_counts().plot(kind='bar') #hbar"
   ]
  },
  {
   "cell_type": "code",
   "execution_count": null,
   "id": "a73730c9-b3ba-484b-8fb5-7eb6ed9eb476",
   "metadata": {},
   "outputs": [],
   "source": [
    "titanic.Survived.value_counts().plot(kind='pie')"
   ]
  },
  {
   "cell_type": "markdown",
   "id": "2b67fca9-834f-4c0c-afc2-c04c05f280d4",
   "metadata": {},
   "source": [
    "=> Save as Excel file"
   ]
  },
  {
   "cell_type": "code",
   "execution_count": null,
   "id": "ac05924b-6eca-47c6-b007-5b0d21be7057",
   "metadata": {},
   "outputs": [],
   "source": [
    "df.to_excel('artist_example.xlsx')\n",
    "df.to_excel('artist_example.xlsx', index=False, columns=['Name', 'Surname', \n",
    "                                                         'Birthday', 'Employment'])"
   ]
  },
  {
   "cell_type": "markdown",
   "id": "c0859465-5583-4395-9b6d-4a0ab17e5bdb",
   "metadata": {},
   "source": [
    "=> DF continue..."
   ]
  },
  {
   "cell_type": "code",
   "execution_count": null,
   "id": "34678c85-7df4-4482-868c-098d9682b412",
   "metadata": {},
   "outputs": [],
   "source": [
    "small_df = df.iloc[49980:50019, :].copy()\n",
    "small_df"
   ]
  },
  {
   "cell_type": "code",
   "execution_count": null,
   "id": "37e927f5-492e-48b9-826e-34073ddff787",
   "metadata": {},
   "outputs": [],
   "source": [
    "grouped = small_df.groupby('artist')\n",
    "for name, group_df in grouped:\n",
    "    print(name)"
   ]
  },
  {
   "cell_type": "code",
   "execution_count": null,
   "id": "dfc3bae2-4f70-4f0c-9979-7707ddc03214",
   "metadata": {},
   "outputs": [],
   "source": [
    "# First Example: Aggregation\n",
    "for name, group_df in grouped:\n",
    "    max_year = group_df['acquisitionYear'].max()\n",
    "    print(f\"{name}: {max_year}\")"
   ]
  },
  {
   "cell_type": "markdown",
   "id": "1c80b3cf-7c6b-480a-8ff3-bb7337df84f2",
   "metadata": {},
   "source": [
    "=> Advanced Function"
   ]
  },
  {
   "cell_type": "code",
   "execution_count": 40,
   "id": "289adb66-3949-4925-a279-ed1abed2796a",
   "metadata": {},
   "outputs": [
    {
     "name": "stdout",
     "output_type": "stream",
     "text": [
      "['Elbek', 'Kadir', 'Boy']\n"
     ]
    }
   ],
   "source": [
    "# Filter functions\n",
    "#students = [\"Elbek\", \"Adil\", \"Kadir\", \"Boy2\", \"Robert\", \"Elis\", \"Elvis\", 1, 2, 3, 4, 5, 6, 7, 8, 9, 10]\n",
    "students = \"Elbek Adil Kadir Boy Robert Norber Elvis Lis 1 2 3 4 5 6 7 8 9 0\".split()\n",
    "selected_students = [\"Elbek\", \"Kadir\", \"Boy\"]\n",
    "\n",
    "def extract_selected_students(item):\n",
    "    if item in selected_students:\n",
    "        return True\n",
    "    else:\n",
    "        return False\n",
    "\n",
    "students_after_selection = filter(extract_selected_students, students)\n",
    "print(list(students_after_selection))"
   ]
  },
  {
   "cell_type": "code",
   "execution_count": 42,
   "id": "7a909a51-5270-4f24-8a81-0f935163fbe4",
   "metadata": {},
   "outputs": [
    {
     "name": "stdout",
     "output_type": "stream",
     "text": [
      "[('Item3', 3), ('Item6', 4), ('Item4', 5), ('Item1', 10), ('Item2', 12), ('Item5', 16)]\n",
      "[2, 4, 6, 8, 0]\n"
     ]
    }
   ],
   "source": [
    "# Lambda Functions\n",
    "# use lambda to sort...\n",
    "products = [\n",
    "    (\"Item1\", 10),\n",
    "    (\"Item2\", 12),\n",
    "    (\"Item3\", 3),\n",
    "    (\"Item4\", 5),\n",
    "    (\"Item5\", 16),\n",
    "    (\"Item6\", 4)\n",
    "]\n",
    "products.sort(key=lambda item: item[1])\n",
    "print(products)\n",
    "# use filter with lambda to take even numbers\n",
    "random_numbers = [1, 2, 3, 4, 5, 6, 7, 8, 9, 0]\n",
    "even_numbers = filter(lambda a: (a % 2 == 0), random_numbers)\n",
    "print(list(even_numbers))\n",
    "# for i in random_numbers:\n",
    "#     if i % 2 == 0:\n",
    "#         even_numbers.append(i)\n",
    "# print(even_numbers)"
   ]
  },
  {
   "cell_type": "code",
   "execution_count": 44,
   "id": "9c776adf-50ca-44eb-adfa-304d37a83e79",
   "metadata": {},
   "outputs": [
    {
     "name": "stdout",
     "output_type": "stream",
     "text": [
      "[5, 6, 6]\n",
      "[5, 6, 6]\n",
      "[5, 6, 6]\n",
      "[1, 4, 9, 16, 25, 36, 49, 64, 81]\n"
     ]
    }
   ],
   "source": [
    "# Map Functions\n",
    "fruits = (\"apple\", \"banana\", \"cherry\")\n",
    "# calculate length of each item in fruits \n",
    "def calculate_len(item):\n",
    "    return len(item)\n",
    "result = map(calculate_len, fruits)\n",
    "print(list(result))\n",
    "results = []\n",
    "for item in fruits:\n",
    "    results.append(len(item))\n",
    "print(results)\n",
    "results = [len(item) for item in fruits]\n",
    "print(results)\n",
    "\n",
    "numbers = [1, 2, 3, 4, 5, 6, 7, 8, 9]\n",
    "def calculate_square(n):\n",
    "    return n * n\n",
    "result_sqr = map(calculate_square, numbers)\n",
    "print(list(result_sqr))"
   ]
  },
  {
   "cell_type": "code",
   "execution_count": 46,
   "id": "98776fd9-6b43-4f11-985b-597fb1491a4c",
   "metadata": {},
   "outputs": [
    {
     "name": "stdout",
     "output_type": "stream",
     "text": [
      "[(1, 'Kadir', 'A'), (2, 'Adil', ' '), (3, 'Fozil', 'B')]\n",
      "{'name': 'Kadir', 'surname': 'Abdusalomov', 'age': 22, 'status': 'student', 'id': 27}\n"
     ]
    }
   ],
   "source": [
    "# Zip Functions\n",
    "numbers = [1, 2, 3, 4, 5, 6]\n",
    "names = ['Kadir', 'Adil', 'Fozil']\n",
    "alpha = \"A B C D E F G\".strip()\n",
    "result_zipped = zip(numbers, names, alpha)\n",
    "print(list(result_zipped))\n",
    "\n",
    "keys = [\"name\", \"surname\", \"age\", \"status\", \"id\"]\n",
    "values = [\"Kadir\", \"Abdusalomov\", 22, \"student\", 27]\n",
    "mix = zip(keys, values)\n",
    "print(dict(mix))"
   ]
  },
  {
   "cell_type": "code",
   "execution_count": 48,
   "id": "e20a4b12-43ba-4c9f-b291-34775695af7a",
   "metadata": {},
   "outputs": [
    {
     "name": "stdout",
     "output_type": "stream",
     "text": [
      "array('i', [1, 2, 3, 4])\n"
     ]
    }
   ],
   "source": [
    "# Arrays\n",
    "from array import array\n",
    "numbers = array(\"i\", [1, 2, 3])\n",
    "numbers.append(4)\n",
    "print(numbers)"
   ]
  },
  {
   "cell_type": "code",
   "execution_count": 54,
   "id": "8b115e98-6fb6-47c4-878e-444c86035ce2",
   "metadata": {},
   "outputs": [
    {
     "name": "stdout",
     "output_type": "stream",
     "text": [
      "List size: 8448728 Tuple size: 8000040 Generator Expression size: 200\n"
     ]
    }
   ],
   "source": [
    "# Generator Objects\n",
    "from sys import getsizeof\n",
    "# list \n",
    "numbers_as_list = [n*100 for n in range(1000000)]\n",
    "# tuple\n",
    "numbers_as_tuple = tuple(n*100 for n in range(1000000))\n",
    "# generator expressions\n",
    "numbers_as_gen_exp = (n*100 for n in range(1000000))\n",
    "print(f\"List size: {getsizeof(numbers_as_list)} Tuple size: {getsizeof(numbers_as_tuple)} Generator Expression size: {getsizeof(numbers_as_gen_exp)}\")\n",
    "# Generator Expressions are efficient while working with large volumes of data compared to other data types like lists or tuples"
   ]
  },
  {
   "cell_type": "code",
   "execution_count": 56,
   "id": "0f444a6e-8924-4857-bf4c-245ae801d4d0",
   "metadata": {},
   "outputs": [
    {
     "name": "stdout",
     "output_type": "stream",
     "text": [
      "1 2 3 4 5\n",
      "1 3 5 7 9\n",
      "M u k h a m m a d k o d i r\n",
      "h y o P n t\n",
      "Warsaw  Berlin  London  Paris Poland Germany UK France Warsaw  Berlin  London  Paris Poland Germany UK France\n",
      "{'name': 'Mukhammadkodir', 'surname': 'Abdusalomov', 'age': 22}\n"
     ]
    }
   ],
   "source": [
    "# Unpacking Operator\n",
    "numbers = [1, 2, 3, 4, 5]\n",
    "print(*numbers)\n",
    "values = [*range(1, 10, 2)]\n",
    "print(*values)\n",
    "print(*\"Mukhammadkodir\")\n",
    "print(*{*\"Python\"})\n",
    "cities = \"Warsaw, Berlin, London, Paris\".split(',')\n",
    "countries = \"Poland Germany UK France\".split()\n",
    "info = [*cities, *countries]\n",
    "print(*cities, *countries, *info)\n",
    "\n",
    "dict_one = {\"name\":\"Mukhammadkodir\"}\n",
    "dict_two = {\"surname\": \"Abdusalomov\"}\n",
    "dict_three = dict(age = 22)\n",
    "dict_combined = {**dict_one, **dict_two, **dict_three}\n",
    "print(dict_combined)"
   ]
  },
  {
   "cell_type": "code",
   "execution_count": null,
   "id": "4d527721-fd1f-4c5b-8c05-38e655c247c3",
   "metadata": {},
   "outputs": [],
   "source": [
    "# two conditions with LC\n",
    "numbers = [21, 24, 56, 564, 102, 504, 79, 84]\n",
    "new_nums, new_numbers = [], []\n",
    "\n",
    "# without LC\n",
    "for num in numbers:\n",
    "    if num < 100:\n",
    "        new_nums.append(num)\n",
    "    else:\n",
    "        new_nums.append(num*2)\n",
    "print(new_nums)\n",
    "# now with LC\n",
    "new_numbers = [num if num < 100 else num * 2 for num in numbers]\n",
    "print(new_numbers)\n",
    "# or \n",
    "items = [item for item in products]\n",
    "items = [item[0] for item in products]\n",
    "new_items_new = [item[0] for item in products if item[1] > 10]"
   ]
  },
  {
   "cell_type": "code",
   "execution_count": null,
   "id": "e1a3c818-ffe7-4803-8ec2-a4b47b0e8d9e",
   "metadata": {},
   "outputs": [],
   "source": [
    "collection = [28, \"M\", 32, \"H\", \"Parrot\", \"Sea Biscuit\"]\n",
    "print(collection[::-1])\n",
    "print(collection.reverse()) # returns NONE but it worked"
   ]
  },
  {
   "cell_type": "code",
   "execution_count": 62,
   "id": "ec2f7b3c-19e5-49cc-b657-3555a6df45fa",
   "metadata": {},
   "outputs": [
    {
     "name": "stdout",
     "output_type": "stream",
     "text": [
      "0 A\n",
      "1 B\n",
      "2 C\n",
      "3 D\n",
      "4 E\n"
     ]
    }
   ],
   "source": [
    "# enumerate \n",
    "letters = list(\"ABCDE\")\n",
    "for index, item in enumerate(letters):\n",
    "    print(index, item)"
   ]
  },
  {
   "cell_type": "code",
   "execution_count": 64,
   "id": "b6bd6698-15a4-45f8-b2ed-cd4a565db872",
   "metadata": {},
   "outputs": [
    {
     "name": "stdout",
     "output_type": "stream",
     "text": [
      "ABCDE\n",
      "A B C D E\n",
      "A-B-C-D-E\n",
      "A, B, C, D, E\n",
      "['Alexander', 'Heroku', 'Druseldor']\n",
      "Alexander, Heroku, Druseldor\n"
     ]
    }
   ],
   "source": [
    "# list methods to keep in mind\n",
    "# .append() .insert(index, value) .pop() .pop(index) .remove(item_name)  del numbers[0:5]  .reverse() .clear() .join()\n",
    "print(\"\".join(letters))\n",
    "print(\" \".join(letters))\n",
    "print(\"-\".join(letters))\n",
    "print(\", \".join(letters))\n",
    "random_values = [\"Alexander\", \"Heroku\", \"Druseldor\"]\n",
    "print(random_values)\n",
    "print(\", \".join(random_values))"
   ]
  },
  {
   "cell_type": "code",
   "execution_count": 66,
   "id": "f8195aae-dfde-402e-9159-d669315c4961",
   "metadata": {},
   "outputs": [
    {
     "name": "stdout",
     "output_type": "stream",
     "text": [
      "[('Item3', 3), ('Item6', 4), ('Item4', 5), ('Item1', 10), ('Item2', 12), ('Item5', 16)]\n"
     ]
    }
   ],
   "source": [
    "def sort_products(product):\n",
    "    return product[1]\n",
    "products.sort(key=sort_products)\n",
    "print(products)"
   ]
  },
  {
   "cell_type": "code",
   "execution_count": null,
   "id": "3840c8ed-9bd0-4eca-96a8-ed3fd1ac4604",
   "metadata": {},
   "outputs": [],
   "source": [
    "# Sets are mutable - values can be changed, unordered, duplicates are removed - only unique values\n",
    "example_set = {1, 2, 3, 4, 5, 6, 7, 8, 9, 0}\n",
    "example_set = {1, 2, \"This_Set\", (\"London\",)}\n",
    "# we cannot have mutable objects in our set, here we have tuple as it is unmutable\n",
    "empty_set = set()\n",
    "# set from a tuple\n",
    "colors = set((\"red\", \"blue\", \"red\", \"green\"))\n",
    "# set from a list\n",
    "colors = set([\"red\", \"blue\", \"red\", \"green\"])\n",
    "# set from a dictionary\n",
    "colors = set({\"main_color\":\"red\", \"ad_color\":\"blue\", \"bottom_color\":\"red\", \"div_color\":\"green\"})\n",
    "colors_ndict = set(dict(main_color=\"red\", ad_color = \"blue\"))\n",
    "\n",
    "#sets are unordered that's why indexing is not allowed\n",
    "colors.add(\"white\")\n",
    "colors.update(\"white\", \"silver\", (\"gold\",))\n",
    "colors.discard(\"silverr\")\n",
    "colors.remove(\"gold\")\n",
    "colors.pop()\n",
    "# colors.clear()\n",
    "same_color = colors # both have same reference id (storage id), one change affects both\n",
    "copied_color = colors.copy()\n",
    "print(id(colors)) #2339080440288\n",
    "print(id(same_color)) #2339080440288\n",
    "print(id(copied_color)) #2339080442976"
   ]
  },
  {
   "cell_type": "code",
   "execution_count": null,
   "id": "aae142d1-0b35-4aa7-b90f-ca1f76f1fc1f",
   "metadata": {},
   "outputs": [],
   "source": [
    "# Set Operations\n",
    "A = {1, 2, 3, 4, 5}\n",
    "B = {4, 5, 6, 7, 8}\n",
    "print(A.union(B))\n",
    "print(A.intersection(B))\n",
    "print(A.difference(B))\n",
    "print(A.symmetric_difference(B))"
   ]
  },
  {
   "cell_type": "code",
   "execution_count": null,
   "id": "184ddbcf-9dfb-45a6-a74f-da1f9235dba2",
   "metadata": {},
   "outputs": [],
   "source": [
    "# Set Comprehensions SC\n",
    "numbers = {1, 2, 3, 4, 5, 6, 7, 8, 9}\n",
    "modified = set()\n",
    "modified2 = set()\n",
    "# SC\n",
    "modified_numbers = {num ** 2 for num in numbers}\n",
    "print(modified_numbers)\n",
    "# without SC\n",
    "for num in numbers:\n",
    "    modified.add(num**2)\n",
    "print(modified)\n",
    "# SC\n",
    "modified_numbers = {num ** 2 for num in range(9)}\n",
    "print(modified_numbers)\n",
    "# without SC\n",
    "for num in range(9):\n",
    "    modified2.add(num**2)\n",
    "print(modified2)"
   ]
  },
  {
   "cell_type": "code",
   "execution_count": null,
   "id": "8a8bf152-4278-422f-99a5-13ca3b8a89a1",
   "metadata": {},
   "outputs": [],
   "source": [
    "# Tuples, unchangeable elements\n",
    "names, numbers, ids = (), (), ()\n",
    "names = \"Kadir\", \n",
    "names = (\"Adil\",) * 2\n",
    "numbers = 1, 2, 3, 4, 5, 6\n",
    "numbers = (1, 2, 3, 4, 5, 6)\n",
    "\n",
    "# we cannot delete individual items but we can delete tuple entirely \n",
    "#del names, numbers\n",
    "#.count(), .index()\n",
    "print(\"Adil\" in names)"
   ]
  },
  {
   "cell_type": "code",
   "execution_count": null,
   "id": "cd85a5ea-9da1-439d-a8df-9b2c0ca7f07c",
   "metadata": {},
   "outputs": [],
   "source": [
    "# Exception Handling\n",
    "import sys\n",
    "\n",
    "try:\n",
    "    pass\n",
    "except:\n",
    "    pass\n",
    "else:\n",
    "    pass\n",
    "finally:\n",
    "    pass\n",
    "\n",
    "try:\n",
    "    age = int(input(\"age: \"))\n",
    "except ValueError as value_error:\n",
    "    print(\"Value Error!\", \"......\", value_error, \"......\", type(value_error))\n",
    "else:\n",
    "    print(\"Success! No exceptions here\")"
   ]
  },
  {
   "cell_type": "code",
   "execution_count": null,
   "id": "d22e6399-ec05-404a-ab8c-ca9c95f0ec71",
   "metadata": {},
   "outputs": [],
   "source": [
    "class Car:\n",
    "    is_new = True\n",
    "    is_used = False\n",
    "    def __init__(self, name=None, brand=None, color=None, year=None):\n",
    "        self.name = name if name else \"Default Name\"\n",
    "        self.brand = brand if brand else \"Default Brand\"\n",
    "        self.color = color if color else \"Default Color\"\n",
    "        self.year = year if year else 2024\n",
    "    def get_car_info(self):\n",
    "        return f\"This is {self.name} manufactured by {self.brand} in {self.year}\"\n",
    "tesla_s1 = Car()\n",
    "tesla_s1.is_electric = True\n",
    "print(f\"{tesla_s1.get_car_info()} and operates in electricity\" if tesla_s1.is_electric else f\"This car is not electric\")"
   ]
  },
  {
   "cell_type": "code",
   "execution_count": null,
   "id": "58d94718-55dc-43d6-a4d2-e329c76055ed",
   "metadata": {},
   "outputs": [],
   "source": [
    "import math\n",
    "import statistics\n",
    "\n",
    "class Calc:\n",
    "    mem_list = []\n",
    "    def __init__(self, name=None, producer=None, color=None):\n",
    "        self.name = name if name else \"Default\"\n",
    "        self.producer = producer if name else \"Default\"\n",
    "        self.color = color if color else \"Default\"\n",
    "    def add(self, a, b):\n",
    "        self.mem_list.append(a+b)\n",
    "        return a + b\n",
    "    def substract(self, a, b):\n",
    "        self.mem_list.append(a-b)\n",
    "    def divide(self, a, b):\n",
    "        self.mem_list.append(a//b)\n",
    "    def multiply(self, a, b):\n",
    "        self.mem_list.append(a*b)\n",
    "    def __str__(self):\n",
    "        return f\"Here are the results: {self.name} {self.producer}, {self.color}\"\n",
    "    def print_me(self):\n",
    "        [i for i in self.mem_list]\n",
    "        # for i in self.mem_list:\n",
    "        #     print(i)"
   ]
  },
  {
   "cell_type": "code",
   "execution_count": null,
   "id": "ae7823d1-d84a-465a-814d-c409df039209",
   "metadata": {},
   "outputs": [],
   "source": [
    "class Scientific_calc(Calc):\n",
    "    def __init__(self, name, producer, color):\n",
    "        Calc.__init__(self, name, producer, color)\n",
    "    def log(self, a):\n",
    "        self.mem_list.append(math.log(a))\n",
    "        return math.log(a)\n",
    "    def pow(self, a, b):\n",
    "        self.mem_list.append(a**b)\n",
    "        return a**b"
   ]
  },
  {
   "cell_type": "code",
   "execution_count": null,
   "id": "bc6f4135-cffb-437f-8595-eb9fcc9b6ff3",
   "metadata": {},
   "outputs": [],
   "source": [
    "class ExtraCalc(Calc):\n",
    "    def __init__(self, name, producer, color, owner_name):\n",
    "        Calc.__init__(self, name, producer, color)\n",
    "        self.owner_name = owner_name\n",
    "    def get_min_result(self):\n",
    "        return min(self.mem_list)\n",
    "    def get_mean_result(self):\n",
    "        return statistics.mean(self.mem_list)\n",
    "    def get_std_result(self):\n",
    "        return statistics.stdev(self.mem_list)"
   ]
  },
  {
   "cell_type": "code",
   "execution_count": null,
   "id": "d6bf6f7c-5496-4753-83ab-7cc4f19d219a",
   "metadata": {},
   "outputs": [],
   "source": [
    "random_value = Calc(\"Hmm\", \"Hmm\", \"red\")\n",
    "random_value.add(5, 5)\n",
    "random_value.substract(5, 5)\n",
    "random_value.divide(5, 5)\n",
    "random_value.multiply(5, 5)\n",
    "random_value.print_me()\n",
    "rr_val = Scientific_calc(\"Hmm\", \"Hmm\", \"red\")\n",
    "print(rr_val.log(5))\n",
    "print(rr_val.pow(5, 5))\n",
    "r_val = ExtraCalc(\"Hmm\", \"Hmm\", \"Hmm\", \"Hmm\")\n",
    "print(r_val.get_min_result())\n",
    "print(r_val.get_mean_result())\n",
    "print(r_val.get_std_result())"
   ]
  },
  {
   "cell_type": "code",
   "execution_count": null,
   "id": "7942fd55-8576-4974-9eb2-d0601e777256",
   "metadata": {},
   "outputs": [],
   "source": [
    "class Experiment(ExtraCalc, Calc):\n",
    "    def __init__(self, owner_name, name, producer, color, production_year=None, quantity=None):\n",
    "        ExtraCalc.__init__(self, owner_name)\n",
    "        Calc.__init__(self, name, producer, color)\n",
    "        self.production_year = production_year if production_year else 2024\n",
    "        self.quantity = quantity if quantity else 0\n",
    "    def __str__(self):\n",
    "        return f\"Results: {self.name} produced in {self.production_year}\"\n",
    "    @classmethod\n",
    "    def specifics(cls, name):\n",
    "        return \"\""
   ]
  },
  {
   "cell_type": "code",
   "execution_count": null,
   "id": "11813a00-c0cf-49c9-852b-5356aa168047",
   "metadata": {},
   "outputs": [],
   "source": [
    "expr = Experiment.specifics(\"Tesla Inc\")"
   ]
  },
  {
   "cell_type": "code",
   "execution_count": null,
   "id": "cfc2fd43-0878-4f61-9387-d8ff441b7406",
   "metadata": {},
   "outputs": [],
   "source": [
    "nums = list(range(1, 15))\n",
    "[n for n in nums]"
   ]
  },
  {
   "cell_type": "markdown",
   "id": "4e9dbd6c-e0b2-4b05-87cc-b88feef8538f",
   "metadata": {},
   "source": [
    "=> Standard Library + Paths"
   ]
  },
  {
   "cell_type": "code",
   "execution_count": 72,
   "id": "dbea22fa-2a7d-4f88-b793-38e7ce196948",
   "metadata": {},
   "outputs": [
    {
     "name": "stdout",
     "output_type": "stream",
     "text": [
      ".\n"
     ]
    }
   ],
   "source": [
    "# Path() object represents the current folder\n",
    "from pathlib import Path\n",
    "path = Path()\n",
    "print(path)"
   ]
  },
  {
   "cell_type": "code",
   "execution_count": 76,
   "id": "ffa40a62-d29c-4718-a8f5-61810363ccad",
   "metadata": {},
   "outputs": [
    {
     "name": "stdout",
     "output_type": "stream",
     "text": [
      "C:\\Users\\khali\n"
     ]
    },
    {
     "data": {
      "text/plain": [
       "WindowsPath('C:/Users/khali')"
      ]
     },
     "execution_count": 76,
     "metadata": {},
     "output_type": "execute_result"
    }
   ],
   "source": [
    "# getting the come directory of the current user\n",
    "print(Path.home())\n",
    "Path.home()"
   ]
  },
  {
   "cell_type": "code",
   "execution_count": null,
   "id": "c285ff0c-c9b9-4e96-a97a-aad9767e361c",
   "metadata": {},
   "outputs": [],
   "source": [
    "print(path.exists())\n",
    "print(path.is_file())\n",
    "print(path.is_dir())\n",
    "print(path.name)\n",
    "print(path.stem)\n",
    "print(path.suffix)\n",
    "print(path.parent)\n",
    "# with_name\n",
    "# with_suffix"
   ]
  },
  {
   "cell_type": "code",
   "execution_count": 74,
   "id": "86275806-6a10-4674-889a-93843cefebee",
   "metadata": {},
   "outputs": [
    {
     "name": "stdout",
     "output_type": "stream",
     "text": [
      "C:\\Users\\khali\\Desktop\\Jupyter\\00_Initial_Trial\n"
     ]
    }
   ],
   "source": [
    "# Directories\n",
    "temp_path = Path.cwd()\n",
    "print(temp_path)"
   ]
  },
  {
   "cell_type": "code",
   "execution_count": null,
   "id": "c601ffe0-b93d-478b-91f6-f8f06dfab130",
   "metadata": {},
   "outputs": [],
   "source": [
    "# mkdir() rmdir() rename() iterdir() cwd() \n",
    "# iterdir() used to get the list of files and directories at this path.\n",
    "# -> use for loop or else it returns generator object"
   ]
  },
  {
   "cell_type": "code",
   "execution_count": 78,
   "id": "101f9c17-0c1a-4ccc-8c64-bc8b85049732",
   "metadata": {},
   "outputs": [
    {
     "name": "stdout",
     "output_type": "stream",
     "text": [
      "C:\\Users\\khali\\Desktop\\Jupyter\\00_Initial_Trial\\.ipynb_checkpoints\n",
      "C:\\Users\\khali\\Desktop\\Jupyter\\00_Initial_Trial\\01_Initial_Trial\n",
      "C:\\Users\\khali\\Desktop\\Jupyter\\00_Initial_Trial\\02_Initial_Trial\n",
      "C:\\Users\\khali\\Desktop\\Jupyter\\00_Initial_Trial\\Collections.ipynb\n",
      "C:\\Users\\khali\\Desktop\\Jupyter\\00_Initial_Trial\\Data_Science\n",
      "C:\\Users\\khali\\Desktop\\Jupyter\\00_Initial_Trial\\Python_SQL\n"
     ]
    }
   ],
   "source": [
    "for files in temp_path.iterdir():\n",
    "    print(files)"
   ]
  },
  {
   "cell_type": "code",
   "execution_count": 82,
   "id": "629d6393-ead1-4c67-9b5c-634c5e641410",
   "metadata": {},
   "outputs": [],
   "source": [
    "existing_data = [data for data in temp_path.iterdir()]\n",
    "print(existing_data)"
   ]
  },
  {
   "cell_type": "code",
   "execution_count": null,
   "id": "1bd5b310-ad95-418f-a1c1-6682ef76e57c",
   "metadata": {},
   "outputs": [],
   "source": [
    "only_files = [file for file in temp_path.iterdir() if file.is_file()]\n",
    "print(only_files)"
   ]
  },
  {
   "cell_type": "code",
   "execution_count": null,
   "id": "d64c9eab-d7ac-4c51-ac19-10dc6e1a0836",
   "metadata": {},
   "outputs": [],
   "source": [
    "only_folders = [folder for folder in temp_path.iterdir() if folder.is_dir()]\n",
    "print(only_folders)"
   ]
  },
  {
   "cell_type": "code",
   "execution_count": null,
   "id": "b92eb827-cc6b-4460-8d8b-ce8c02337a8f",
   "metadata": {},
   "outputs": [],
   "source": [
    "python_files = [file for file in temp_path.glob(\"*.py\")]\n",
    "print(python_files)"
   ]
  },
  {
   "cell_type": "code",
   "execution_count": null,
   "id": "5f8ec513-ec6d-471f-a844-7629c0cc8269",
   "metadata": {},
   "outputs": [],
   "source": [
    "all_existing_files = [file for file in temp_path.rglob(\"*.*\")]\n",
    "print(all_existing_files)"
   ]
  },
  {
   "cell_type": "code",
   "execution_count": 86,
   "id": "35912c2a-08dc-4f32-8eda-cdd4e20833f6",
   "metadata": {},
   "outputs": [
    {
     "name": "stdout",
     "output_type": "stream",
     "text": [
      "49\n"
     ]
    }
   ],
   "source": [
    "import random\n",
    "print(random.randint(1, 50))"
   ]
  },
  {
   "cell_type": "code",
   "execution_count": 88,
   "id": "b6c5e466-2e31-41d2-a2b7-e02759839878",
   "metadata": {},
   "outputs": [
    {
     "name": "stdout",
     "output_type": "stream",
     "text": [
      "R\n"
     ]
    }
   ],
   "source": [
    "print(random.choice([\"Python\", \"R\", \"SQL\"]))"
   ]
  },
  {
   "cell_type": "code",
   "execution_count": 90,
   "id": "7e8af651-9e90-41aa-a1a1-7054e56a7516",
   "metadata": {},
   "outputs": [
    {
     "name": "stdout",
     "output_type": "stream",
     "text": [
      "[4, 3, 2, 2, 1]\n"
     ]
    }
   ],
   "source": [
    "print(random.choices([1, 2, 3, 4, 5, 6, 7, 8, 9, 0], k=5))"
   ]
  },
  {
   "cell_type": "code",
   "execution_count": null,
   "id": "f3996747-f59e-4dff-ab8e-5fcd571cb337",
   "metadata": {},
   "outputs": [],
   "source": [
    "random.shuffle(numbers)"
   ]
  },
  {
   "cell_type": "code",
   "execution_count": null,
   "id": "e75839a0-c1f5-4ba8-915e-3971b854f066",
   "metadata": {},
   "outputs": [],
   "source": [
    "# creating a list of random integers using random.randint()\n",
    "random_list = [random.randint(1, 50) for i in range(10)]\n",
    "print(random_list)"
   ]
  },
  {
   "cell_type": "code",
   "execution_count": null,
   "id": "61fc5a49-c711-4263-b167-75f64308953a",
   "metadata": {},
   "outputs": [],
   "source": [
    "# creating a list of random values using random.sample()\n",
    "random_list = [random.sample(range(1, 50), 10)]\n",
    "print(random_list)"
   ]
  },
  {
   "cell_type": "code",
   "execution_count": null,
   "id": "91bb0a6e-d791-4c3a-996e-33b1c305d9b8",
   "metadata": {},
   "outputs": [],
   "source": [
    "import webbrowser\n",
    "webbrowser.open(\"http://google.com\")"
   ]
  },
  {
   "cell_type": "markdown",
   "id": "e0a4238b-a6e1-44af-8f61-af38a6ab76e0",
   "metadata": {},
   "source": [
    "=> NumPy functions"
   ]
  },
  {
   "cell_type": "code",
   "execution_count": null,
   "id": "a9feed3f-0b0c-42c2-a372-738ca6dedd5e",
   "metadata": {},
   "outputs": [],
   "source": [
    "# loading data from external files using numpy\n",
    "salaries = np.loadtxt('data/salary.csv', delimiter=',')\n",
    "salaries.shape"
   ]
  },
  {
   "cell_type": "code",
   "execution_count": null,
   "id": "81dbb7d5-db00-417f-9dd0-10fa41732c38",
   "metadata": {},
   "outputs": [],
   "source": [
    "mean = np.mean(salaries)\n",
    "median = np.median(salaries)\n",
    "std = np.std(salaries)\n",
    "variance = np.var(salaries)"
   ]
  },
  {
   "cell_type": "code",
   "execution_count": null,
   "id": "9ebb5ed4-7a06-41ca-b7e7-2a690c99598f",
   "metadata": {},
   "outputs": [],
   "source": [
    "import sys\n",
    "test_scores = np.array(salaries)\n",
    "np.set_printoptions(threshold=sys.maxsize)\n",
    "test_scores"
   ]
  }
 ],
 "metadata": {
  "kernelspec": {
   "display_name": "Python 3 (ipykernel)",
   "language": "python",
   "name": "python3"
  },
  "language_info": {
   "codemirror_mode": {
    "name": "ipython",
    "version": 3
   },
   "file_extension": ".py",
   "mimetype": "text/x-python",
   "name": "python",
   "nbconvert_exporter": "python",
   "pygments_lexer": "ipython3",
   "version": "3.12.4"
  }
 },
 "nbformat": 4,
 "nbformat_minor": 5
}
