{
 "cells": [
  {
   "cell_type": "code",
   "execution_count": 1,
   "id": "bb7ffcf2-64a4-439d-8055-c0de29c8ed96",
   "metadata": {},
   "outputs": [],
   "source": [
    "# Paths\n",
    "from pathlib import Path"
   ]
  },
  {
   "cell_type": "code",
   "execution_count": 5,
   "id": "d678d382-2bc6-4bc0-be5a-73fa6fec9434",
   "metadata": {},
   "outputs": [
    {
     "name": "stdout",
     "output_type": "stream",
     "text": [
      "C:\\Program Files\\Python 3\n"
     ]
    }
   ],
   "source": [
    "# creating an absolute path on windows\n",
    "path = Path(\"C:\\\\Program Files\\\\Python 3\")\n",
    "print(path)"
   ]
  },
  {
   "cell_type": "code",
   "execution_count": 9,
   "id": "b6916231-d3b0-4f7e-a126-3fbed6cad823",
   "metadata": {},
   "outputs": [
    {
     "name": "stdout",
     "output_type": "stream",
     "text": [
      "C:\\Program Files\\Python 3\n"
     ]
    }
   ],
   "source": [
    "# using a raw string to simplify path creation\n",
    "path = Path(r\"C:\\Program Files\\Python 3\")\n",
    "print(path)"
   ]
  },
  {
   "cell_type": "code",
   "execution_count": 43,
   "id": "99a8144b-de95-43f8-813e-0bc97f10d9d2",
   "metadata": {},
   "outputs": [
    {
     "name": "stdout",
     "output_type": "stream",
     "text": [
      "users\\__init__.py\n"
     ]
    }
   ],
   "source": [
    "# creating a relative path\n",
    "path = Path(\"users/__init__.py\")\n",
    "print(path)"
   ]
  },
  {
   "cell_type": "code",
   "execution_count": 15,
   "id": "af485c88-62f0-4d41-b180-d84127915855",
   "metadata": {},
   "outputs": [],
   "source": [
    "# there are two types of paths: Absolute path and Relative path"
   ]
  },
  {
   "cell_type": "code",
   "execution_count": 17,
   "id": "55f991ba-516c-44e9-8dea-29b40de7013a",
   "metadata": {},
   "outputs": [
    {
     "name": "stdout",
     "output_type": "stream",
     "text": [
      ".\n"
     ]
    }
   ],
   "source": [
    "# Path() object represents the current folder\n",
    "path = Path()\n",
    "print(path)"
   ]
  },
  {
   "cell_type": "code",
   "execution_count": 21,
   "id": "8fa6804e-27e0-467d-8b8d-a3a8ae407869",
   "metadata": {},
   "outputs": [
    {
     "name": "stdout",
     "output_type": "stream",
     "text": [
      "C:\\Users\\khali\n"
     ]
    },
    {
     "data": {
      "text/plain": [
       "WindowsPath('C:/Users/khali')"
      ]
     },
     "execution_count": 21,
     "metadata": {},
     "output_type": "execute_result"
    }
   ],
   "source": [
    "# getting the come directory of the current user\n",
    "print(Path.home())\n",
    "Path.home()"
   ]
  },
  {
   "cell_type": "code",
   "execution_count": 53,
   "id": "f379a756-9b85-4382-a022-f63040e02135",
   "metadata": {},
   "outputs": [
    {
     "name": "stdout",
     "output_type": "stream",
     "text": [
      "False\n",
      "False\n",
      "False\n",
      "__init__.py\n",
      "__init__\n",
      ".py\n",
      "users\n"
     ]
    }
   ],
   "source": [
    "print(path.exists())\n",
    "print(path.is_file())\n",
    "print(path.is_dir())\n",
    "print(path.name)\n",
    "print(path.stem)\n",
    "print(path.suffix)\n",
    "print(path.parent)\n",
    "# with_name\n",
    "# with_suffix"
   ]
  },
  {
   "cell_type": "code",
   "execution_count": 57,
   "id": "04cd7427-e5a2-4f6b-9de5-e3d026dccc7c",
   "metadata": {},
   "outputs": [
    {
     "name": "stdout",
     "output_type": "stream",
     "text": [
      "C:\\Users\\khali\\Desktop\\Jupyter Notebook\n"
     ]
    }
   ],
   "source": [
    "# Directories\n",
    "temp_path = Path.cwd()\n",
    "print(temp_path)"
   ]
  },
  {
   "cell_type": "code",
   "execution_count": 63,
   "id": "eaed43d4-11cd-4454-a9f5-dac75ff30469",
   "metadata": {},
   "outputs": [],
   "source": [
    "# mkdir() rmdir() rename() iterdir() cwd() \n",
    "# iterdir() used to get the list of files and directories at this path. use for loop or else it returns generator object"
   ]
  },
  {
   "cell_type": "code",
   "execution_count": 61,
   "id": "00a88fb6-eb99-4b13-99d2-91efcbb3d1e4",
   "metadata": {},
   "outputs": [
    {
     "name": "stdout",
     "output_type": "stream",
     "text": [
      "C:\\Users\\khali\\Desktop\\Jupyter Notebook\\.ipynb_checkpoints\n",
      "C:\\Users\\khali\\Desktop\\Jupyter Notebook\\Standard_Library.ipynb\n"
     ]
    }
   ],
   "source": [
    "for files in temp_path.iterdir():\n",
    "    print(files)"
   ]
  },
  {
   "cell_type": "code",
   "execution_count": 65,
   "id": "846194bf-1acd-4752-afcd-b293cf4afdb3",
   "metadata": {},
   "outputs": [
    {
     "name": "stdout",
     "output_type": "stream",
     "text": [
      "[WindowsPath('C:/Users/khali/Desktop/Jupyter Notebook/.ipynb_checkpoints'), WindowsPath('C:/Users/khali/Desktop/Jupyter Notebook/Standard_Library.ipynb')]\n"
     ]
    }
   ],
   "source": [
    "existing_data = [data for data in temp_path.iterdir()]\n",
    "print(existing_data)"
   ]
  },
  {
   "cell_type": "code",
   "execution_count": 69,
   "id": "117164a4-c5a8-4400-bc04-bb7931b4aec9",
   "metadata": {},
   "outputs": [
    {
     "name": "stdout",
     "output_type": "stream",
     "text": [
      "[WindowsPath('C:/Users/khali/Desktop/Jupyter Notebook/Standard_Library.ipynb')]\n"
     ]
    }
   ],
   "source": [
    "only_files = [file for file in temp_path.iterdir() if file.is_file()]\n",
    "print(only_files)"
   ]
  },
  {
   "cell_type": "code",
   "execution_count": 73,
   "id": "5b2f7306-5b4f-4e01-97c2-fdbfe8863faf",
   "metadata": {},
   "outputs": [
    {
     "name": "stdout",
     "output_type": "stream",
     "text": [
      "[WindowsPath('C:/Users/khali/Desktop/Jupyter Notebook/.ipynb_checkpoints')]\n"
     ]
    }
   ],
   "source": [
    "only_folders = [folder for folder in temp_path.iterdir() if folder.is_dir()]\n",
    "print(only_folders)"
   ]
  },
  {
   "cell_type": "code",
   "execution_count": 79,
   "id": "b9e89536-e111-4be5-912a-9dae80b0731d",
   "metadata": {},
   "outputs": [
    {
     "name": "stdout",
     "output_type": "stream",
     "text": [
      "[]\n"
     ]
    }
   ],
   "source": [
    "python_files = [file for file in temp_path.glob(\"*.py\")]\n",
    "print(python_files)"
   ]
  },
  {
   "cell_type": "code",
   "execution_count": 83,
   "id": "4b009040-84e5-4c4e-90f8-d34215e87b5d",
   "metadata": {},
   "outputs": [
    {
     "name": "stdout",
     "output_type": "stream",
     "text": [
      "[WindowsPath('C:/Users/khali/Desktop/Jupyter Notebook/.ipynb_checkpoints'), WindowsPath('C:/Users/khali/Desktop/Jupyter Notebook/Standard_Library.ipynb'), WindowsPath('C:/Users/khali/Desktop/Jupyter Notebook/.ipynb_checkpoints/Standard_Library-checkpoint.ipynb')]\n"
     ]
    }
   ],
   "source": [
    "all_existing_files = [file for file in temp_path.rglob(\"*.*\")]\n",
    "print(all_existing_files)"
   ]
  },
  {
   "cell_type": "code",
   "execution_count": 95,
   "id": "e695e75c-f468-4cb3-b386-4b7a5528d74e",
   "metadata": {},
   "outputs": [
    {
     "name": "stdout",
     "output_type": "stream",
     "text": [
      "[WindowsPath('.ipynb_checkpoints'), WindowsPath('Standard_Library.ipynb')]\n"
     ]
    }
   ],
   "source": [
    "many_files = [data for data in Path().iterdir() if data.is_dir() or data.is_file()]\n",
    "print(many_files)"
   ]
  },
  {
   "cell_type": "code",
   "execution_count": 99,
   "id": "4eb34dac-3d24-46bb-a5a7-11a5270c4d1f",
   "metadata": {},
   "outputs": [],
   "source": [
    "many_files = [data for data in Path.home().iterdir() if data.is_dir() or data.is_file()]"
   ]
  },
  {
   "cell_type": "code",
   "execution_count": 101,
   "id": "083d3752-383a-44e0-bed8-f585f9a023dc",
   "metadata": {},
   "outputs": [],
   "source": [
    "# unlink() stat() "
   ]
  },
  {
   "cell_type": "code",
   "execution_count": 107,
   "id": "74b6235d-c62f-41ce-a69a-2cc05ced9e2e",
   "metadata": {},
   "outputs": [],
   "source": [
    "# python_file = Path(\"main.py\")\n",
    "# print(ctime(python_file.stat().st_atime))\n",
    "# .st_atime for last access time, .st_mtime for last modification time, .st_ctime for creation time"
   ]
  },
  {
   "cell_type": "code",
   "execution_count": null,
   "id": "a39bf991-27b9-4571-99b7-a81702cf54cc",
   "metadata": {},
   "outputs": [],
   "source": []
  },
  {
   "cell_type": "code",
   "execution_count": 117,
   "id": "f556c0e7-745a-4540-b9d4-3e21f8f23e56",
   "metadata": {},
   "outputs": [],
   "source": [
    "# Zip files\n",
    "from pathlib import Path\n",
    "from zipfile import ZipFile\n",
    "# with ZipFile(\"location/location/zip_file.zip\") as file:\n",
    "#     file.extractall(\"location/location\")"
   ]
  },
  {
   "cell_type": "code",
   "execution_count": 119,
   "id": "ce99095e-cbc7-44f3-b640-b50371dea4d0",
   "metadata": {},
   "outputs": [],
   "source": [
    "# working with csv files\n",
    "# remember to provide [] as arg in writerow(), one arg can be provided, here you can do it using lists"
   ]
  },
  {
   "cell_type": "code",
   "execution_count": 139,
   "id": "ef5691da-a21f-4033-95b9-65afedb8553c",
   "metadata": {},
   "outputs": [],
   "source": [
    "import csv\n",
    "\n",
    "with open(\"user_info/users.csv\", \"w\", newline=\"\") as users_data:\n",
    "    csv_writer_data = csv.writer(users_data)\n",
    "    csv_writer_data.writerow([\"User Name\", \"User ID\", \"Status\"])\n",
    "    csv_writer_data.writerow([\"elbek474\", 474665, \"Student\"])\n",
    "    csv_writer_data.writerow([\"boy000\", 474337, \"Student\"])\n",
    "    csv_writer_data.writerow([\"kadir27\", 474774, \"Student\"])"
   ]
  },
  {
   "cell_type": "code",
   "execution_count": 159,
   "id": "0988f432-3cae-4425-9ee6-7e4592f85cd7",
   "metadata": {},
   "outputs": [
    {
     "name": "stdout",
     "output_type": "stream",
     "text": [
      "[['User Name', 'User ID', 'Status'], ['elbek474', '474665', 'Student'], ['boy000', '474337', 'Student'], ['kadir27', '474774', 'Student']]\n"
     ]
    }
   ],
   "source": [
    "# reading a csv file\n",
    "with open(\"user_info/users.csv\") as user_data:\n",
    "    csv_reader_data = csv.reader(user_data)\n",
    "    print(list(csv_reader_data))\n",
    "    # for i in csv_reader_data:\n",
    "    #     print(i)"
   ]
  },
  {
   "cell_type": "code",
   "execution_count": 1,
   "id": "05f5ba0e-e7a4-4ef3-86d4-5cd5e83e1b60",
   "metadata": {},
   "outputs": [],
   "source": [
    "# working with JSON files"
   ]
  },
  {
   "cell_type": "code",
   "execution_count": 21,
   "id": "84d06c51-efa4-465c-be21-814c3c706a70",
   "metadata": {},
   "outputs": [
    {
     "name": "stdout",
     "output_type": "stream",
     "text": [
      "[{\"Product\": \"T-Shirt\", \"Price\": 5.99}, {\"Product\": \"Jeans\", \"Price\": 15.99}, {\"Product\": \"Watch\", \"Price\": 8.99}, {\"Product\": \"Sweater\", \"Price\": 13.99}]\n",
      "[{\"Product\": \"T-Shirt\", \"Price\": 5.99}, {\"Product\": \"Jeans\", \"Price\": 15.99}, {\"Product\": \"Watch\", \"Price\": 8.99}, {\"Product\": \"Sweater\", \"Price\": 13.99}]\n",
      "[{'Product': 'T-Shirt', 'Price': 5.99}, {'Product': 'Jeans', 'Price': 15.99}, {'Product': 'Watch', 'Price': 8.99}, {'Product': 'Sweater', 'Price': 13.99}]\n",
      "{'Product': 'T-Shirt', 'Price': 5.99}\n",
      "5.99\n",
      "8.99\n"
     ]
    }
   ],
   "source": [
    "import json\n",
    "from pathlib import Path\n",
    "\n",
    "products = [\n",
    "    {\"Product\": \"T-Shirt\", \"Price\": 5.99},\n",
    "    {\"Product\": \"Jeans\", \"Price\": 15.99},\n",
    "    {\"Product\": \"Watch\", \"Price\": 8.99},\n",
    "    {\"Product\": \"Sweater\", \"Price\": 13.99},\n",
    "]\n",
    "\n",
    "data = json.dumps(products) # converting into json formatted string\n",
    "print(data)\n",
    "\n",
    "#writing this data into a json file\n",
    "Path(\"user_info/products.json\").write_text(data)\n",
    "\n",
    "# reading from a json file\n",
    "json_data = Path(\"user_info/products.json\").read_text()\n",
    "print(json_data)\n",
    "\n",
    "readable_data = json.loads(json_data) #converts json string to python dict\n",
    "print(readable_data)\n",
    "print(readable_data[0])\n",
    "print(readable_data[0][\"Price\"])\n",
    "print(readable_data[2][\"Price\"])"
   ]
  },
  {
   "cell_type": "code",
   "execution_count": 23,
   "id": "e3676c57-4dc3-4d9b-b396-12f5958309bb",
   "metadata": {},
   "outputs": [],
   "source": [
    "# working with random values"
   ]
  },
  {
   "cell_type": "code",
   "execution_count": 29,
   "id": "2a80e5fb-0541-4857-904b-93e8ed966657",
   "metadata": {},
   "outputs": [
    {
     "name": "stdout",
     "output_type": "stream",
     "text": [
      "0.6744137112576897\n"
     ]
    }
   ],
   "source": [
    "import random\n",
    "\n",
    "# between 0 and 1\n",
    "print(random.random())"
   ]
  },
  {
   "cell_type": "code",
   "execution_count": 31,
   "id": "4fd1f080-d9f5-49b8-9223-5acf7e6f1a3b",
   "metadata": {},
   "outputs": [
    {
     "name": "stdout",
     "output_type": "stream",
     "text": [
      "28\n"
     ]
    }
   ],
   "source": [
    "# between two arbitrary numbers\n",
    "print(random.randint(1, 50))"
   ]
  },
  {
   "cell_type": "code",
   "execution_count": 55,
   "id": "0a066464-2780-4629-92b3-6e7c344bd8d9",
   "metadata": {},
   "outputs": [
    {
     "name": "stdout",
     "output_type": "stream",
     "text": [
      "5\n",
      "SQL\n"
     ]
    }
   ],
   "source": [
    "# randomly choosing a list item\n",
    "print(random.choice([1, 2, 3, 4, 5, 6, 7, 8, 9, 0]))\n",
    "print(random.choice([\"Python\", \"R\", \"SQL\"]))"
   ]
  },
  {
   "cell_type": "code",
   "execution_count": 73,
   "id": "fc20b4dd-f9fa-44f7-a707-abbe86200a0b",
   "metadata": {},
   "outputs": [
    {
     "name": "stdout",
     "output_type": "stream",
     "text": [
      "[6, 1]\n",
      "[5, 0, 6, 0, 8]\n"
     ]
    }
   ],
   "source": [
    "# randomly choosing multiple list items\n",
    "print(random.choices([1, 2, 3, 4, 5, 6, 7, 8, 9, 0], k=2))\n",
    "print(random.choices([1, 2, 3, 4, 5, 6, 7, 8, 9, 0], k=5))"
   ]
  },
  {
   "cell_type": "code",
   "execution_count": 81,
   "id": "d06aeb1b-b99e-4042-bcc2-6402ac085e46",
   "metadata": {},
   "outputs": [
    {
     "name": "stdout",
     "output_type": "stream",
     "text": [
      "[4, 9, 1, 5, 6, 7, 3, 8, 0, 2]\n"
     ]
    }
   ],
   "source": [
    "# shuffling a list\n",
    "numbers = [1, 2, 3, 4, 5, 6, 7, 8, 9, 0]\n",
    "random.shuffle(numbers)\n",
    "print(numbers)"
   ]
  },
  {
   "cell_type": "code",
   "execution_count": 89,
   "id": "216e7f32-8745-40da-a828-f68526fd1c47",
   "metadata": {},
   "outputs": [
    {
     "name": "stdout",
     "output_type": "stream",
     "text": [
      "[20, 16, 44, 7, 41, 2, 12, 24, 42, 38]\n"
     ]
    }
   ],
   "source": [
    "# creating a list of random integers using random.randint()\n",
    "random_list = [random.randint(1, 50) for i in range(10)]\n",
    "print(random_list)"
   ]
  },
  {
   "cell_type": "code",
   "execution_count": 95,
   "id": "db80e6bf-d480-4773-9376-5616e10f534c",
   "metadata": {},
   "outputs": [
    {
     "name": "stdout",
     "output_type": "stream",
     "text": [
      "[[43, 40, 21, 10, 3, 20, 47, 25, 15, 24]]\n"
     ]
    }
   ],
   "source": [
    "# creating a list of random values using random.sample()\n",
    "random_list = [random.sample(range(1, 50), 10)]\n",
    "print(random_list)"
   ]
  },
  {
   "cell_type": "code",
   "execution_count": 97,
   "id": "484ec9b6-11a4-4aac-93e2-ab23da6cb47d",
   "metadata": {},
   "outputs": [
    {
     "name": "stdout",
     "output_type": "stream",
     "text": [
      "[36.05496437041344, 26.625825454881237, 23.522743349661575, 32.855149891892964, 26.08811643241396, 32.88275261810659, 26.100955938839746, 37.085577854645834, 5.600907189219337, 34.39561161785593]\n"
     ]
    }
   ],
   "source": [
    "# creating a list of random doubles using random.uniform()\n",
    "random_double = [random.uniform(1, 50) for i in range(10)]\n",
    "print(random_double)"
   ]
  },
  {
   "cell_type": "code",
   "execution_count": 113,
   "id": "b3a4e1ce-89a9-4c48-bcd9-44c346e47a17",
   "metadata": {},
   "outputs": [
    {
     "name": "stdout",
     "output_type": "stream",
     "text": [
      "[False, True, False, False, True, False, True, False, False, True]\n"
     ]
    }
   ],
   "source": [
    "# creating a list of random booleans using random.choice()\n",
    "random_booleans = [random.choice([True, False]) for i in range(10)]\n",
    "print(random_booleans)"
   ]
  },
  {
   "cell_type": "code",
   "execution_count": 115,
   "id": "04679082-c1c0-4cb3-a6a4-20096f155a2c",
   "metadata": {},
   "outputs": [],
   "source": [
    "# working with browser"
   ]
  },
  {
   "cell_type": "code",
   "execution_count": 117,
   "id": "c890373c-a389-4877-a84d-80f153f60522",
   "metadata": {},
   "outputs": [
    {
     "data": {
      "text/plain": [
       "True"
      ]
     },
     "execution_count": 117,
     "metadata": {},
     "output_type": "execute_result"
    }
   ],
   "source": [
    "import webbrowser\n",
    "webbrowser.open(\"http://google.com\")"
   ]
  },
  {
   "cell_type": "code",
   "execution_count": null,
   "id": "9545763b-5a1e-49cd-8082-e9fa67e24b8a",
   "metadata": {},
   "outputs": [],
   "source": [
    "# working with pdf files\n",
    "import PyPDF2\n",
    "from pathlib import Path\n",
    "\n",
    "# if you want to work with pdf files, read or write, you have to provide it as binary.\n",
    "# for example \"rb\" or \"wb\" - read binary and write binary\n",
    "\n",
    "with open(\"13_Pypi\\\\9_Package_Index\\\\flexbox.pdf\", \"rb\") as file:\n",
    "    reader = PyPDF2.PdfFileReader(file)\n",
    "    print(reader.numPages)\n",
    "    page = reader.getPage(10)\n",
    "    page.rotateClockwise(180)\n",
    "    writer = PyPDF2.PdfFileWriter()\n",
    "    writer.addPage(page)\n",
    "\n",
    "    with open(\"new_file.pdf\", \"wb\") as new_file:\n",
    "        writer.write(new_file)\n",
    "\n",
    "\n",
    "# merging pdf files\n",
    "merger = PyPDF2.PdfFileMerger()\n",
    "pdf_files = [\"flexbox.pdf\", \"grid.pdf\"]\n",
    "for file in pdf_files:\n",
    "    merger.append(file)\n",
    "merger.write(\"merged-result-file.pdf\")\n",
    "\n",
    "print(Path.cwd())\n",
    "# use older version of PyPDF2"
   ]
  }
 ],
 "metadata": {
  "kernelspec": {
   "display_name": "Python 3 (ipykernel)",
   "language": "python",
   "name": "python3"
  },
  "language_info": {
   "codemirror_mode": {
    "name": "ipython",
    "version": 3
   },
   "file_extension": ".py",
   "mimetype": "text/x-python",
   "name": "python",
   "nbconvert_exporter": "python",
   "pygments_lexer": "ipython3",
   "version": "3.12.4"
  }
 },
 "nbformat": 4,
 "nbformat_minor": 5
}
