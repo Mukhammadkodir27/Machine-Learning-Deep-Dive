{
 "cells": [
  {
   "cell_type": "code",
   "execution_count": 51,
   "id": "5fc6d7b1-2106-4fcb-be7e-3b3eecab6789",
   "metadata": {},
   "outputs": [
    {
     "name": "stdout",
     "output_type": "stream",
     "text": [
      "This is Default Name manufactured by Default Brand in 2024 and operates in electricity\n"
     ]
    }
   ],
   "source": [
    "class Car:\n",
    "    is_new = True\n",
    "    is_used = False\n",
    "    def __init__(self, name=None, brand=None, color=None, year=None):\n",
    "        self.name = name if name else \"Default Name\"\n",
    "        self.brand = brand if brand else \"Default Brand\"\n",
    "        self.color = color if color else \"Default Color\"\n",
    "        self.year = year if year else 2024\n",
    "    def get_car_info(self):\n",
    "        return f\"This is {self.name} manufactured by {self.brand} in {self.year}\"\n",
    "tesla_s1 = Car()\n",
    "tesla_s1.is_electric = True\n",
    "print(f\"{tesla_s1.get_car_info()} and operates in electricity\" if tesla_s1.is_electric else f\"This car is not electric\")"
   ]
  },
  {
   "cell_type": "code",
   "execution_count": 3,
   "id": "065f2386-f129-4ea8-a8d6-85535878c1d4",
   "metadata": {},
   "outputs": [],
   "source": [
    "# OOP Class with Inheritance"
   ]
  },
  {
   "cell_type": "code",
   "execution_count": 89,
   "id": "d9ec198b-4f4e-48b4-a7fc-749c73c5b54c",
   "metadata": {},
   "outputs": [],
   "source": [
    "import math\n",
    "import statistics\n",
    "\n",
    "class Calc:\n",
    "    mem_list = []\n",
    "    def __init__(self, name=None, producer=None, color=None):\n",
    "        self.name = name if name else \"Default\"\n",
    "        self.producer = producer if name else \"Default\"\n",
    "        self.color = color if color else \"Default\"\n",
    "    def add(self, a, b):\n",
    "        self.mem_list.append(a+b)\n",
    "        return a + b\n",
    "    def substract(self, a, b):\n",
    "        self.mem_list.append(a-b)\n",
    "    def divide(self, a, b):\n",
    "        self.mem_list.append(a//b)\n",
    "    def multiply(self, a, b):\n",
    "        self.mem_list.append(a*b)\n",
    "    def __str__(self):\n",
    "        return f\"Here are the results: {self.name} {self.producer}, {self.color}\"\n",
    "    def print_me(self):\n",
    "        [i for i in self.mem_list]\n",
    "        # for i in self.mem_list:\n",
    "        #     print(i)"
   ]
  },
  {
   "cell_type": "code",
   "execution_count": 91,
   "id": "072da08a-7dd3-4430-9a74-9d1dcb68e68e",
   "metadata": {},
   "outputs": [],
   "source": [
    "class Scientific_calc(Calc):\n",
    "    def __init__(self, name, producer, color):\n",
    "        Calc.__init__(self, name, producer, color)\n",
    "    def log(self, a):\n",
    "        self.mem_list.append(math.log(a))\n",
    "        return math.log(a)\n",
    "    def pow(self, a, b):\n",
    "        self.mem_list.append(a**b)\n",
    "        return a**b"
   ]
  },
  {
   "cell_type": "code",
   "execution_count": 93,
   "id": "78af8bc4-7a7b-467f-8b55-9a43fd4f1e3e",
   "metadata": {},
   "outputs": [],
   "source": [
    "class ExtraCalc(Calc):\n",
    "    def __init__(self, name, producer, color, owner_name):\n",
    "        Calc.__init__(self, name, producer, color)\n",
    "        self.owner_name = owner_name\n",
    "    def get_min_result(self):\n",
    "        return min(self.mem_list)\n",
    "    def get_mean_result(self):\n",
    "        return statistics.mean(self.mem_list)\n",
    "    def get_std_result(self):\n",
    "        return statistics.stdev(self.mem_list)"
   ]
  },
  {
   "cell_type": "code",
   "execution_count": 95,
   "id": "ee51877a-1d5a-4365-bc5d-8b81ca313380",
   "metadata": {},
   "outputs": [
    {
     "name": "stdout",
     "output_type": "stream",
     "text": [
      "1.6094379124341003\n",
      "3125\n",
      "0\n",
      "527.1015729854057\n",
      "1272.740129078066\n"
     ]
    }
   ],
   "source": [
    "random_value = Calc(\"Hmm\", \"Hmm\", \"red\")\n",
    "random_value.add(5, 5)\n",
    "random_value.substract(5, 5)\n",
    "random_value.divide(5, 5)\n",
    "random_value.multiply(5, 5)\n",
    "random_value.print_me()\n",
    "rr_val = Scientific_calc(\"Hmm\", \"Hmm\", \"red\")\n",
    "print(rr_val.log(5))\n",
    "print(rr_val.pow(5, 5))\n",
    "r_val = ExtraCalc(\"Hmm\", \"Hmm\", \"Hmm\", \"Hmm\")\n",
    "print(r_val.get_min_result())\n",
    "print(r_val.get_mean_result())\n",
    "print(r_val.get_std_result())"
   ]
  },
  {
   "cell_type": "code",
   "execution_count": 133,
   "id": "a51c2ba9-3d24-41cd-8f5f-b833b7a692b4",
   "metadata": {},
   "outputs": [],
   "source": [
    "class Experiment(ExtraCalc, Calc):\n",
    "    def __init__(self, owner_name, name, producer, color, production_year=None, quantity=None):\n",
    "        ExtraCalc.__init__(self, owner_name)\n",
    "        Calc.__init__(self, name, producer, color)\n",
    "        self.production_year = production_year if production_year else 2024\n",
    "        self.quantity = quantity if quantity else 0\n",
    "    def __str__(self):\n",
    "        return f\"Results: {self.name} produced in {self.production_year}\"\n",
    "    @classmethod\n",
    "    def specifics(cls, name):\n",
    "        return \"\""
   ]
  },
  {
   "cell_type": "code",
   "execution_count": 135,
   "id": "4b0a15eb-e279-4878-802b-56886903b140",
   "metadata": {},
   "outputs": [],
   "source": [
    "expr = Experiment.specifics(\"Tesla Inc\")"
   ]
  },
  {
   "cell_type": "code",
   "execution_count": 137,
   "id": "4cf4d3be-5da9-486e-8977-871c1a8f300a",
   "metadata": {},
   "outputs": [
    {
     "name": "stdout",
     "output_type": "stream",
     "text": [
      "\n"
     ]
    }
   ],
   "source": [
    "print(expr)"
   ]
  },
  {
   "cell_type": "code",
   "execution_count": 153,
   "id": "a431e113-57e3-431f-bf79-761ebaf004bc",
   "metadata": {},
   "outputs": [
    {
     "data": {
      "text/plain": [
       "[1, 2, 3, 4, 5, 6, 7, 8, 9, 10, 11, 12, 13, 14]"
      ]
     },
     "execution_count": 153,
     "metadata": {},
     "output_type": "execute_result"
    }
   ],
   "source": [
    "nums = list(range(1, 15))\n",
    "[n for n in nums]"
   ]
  }
 ],
 "metadata": {
  "kernelspec": {
   "display_name": "Python 3 (ipykernel)",
   "language": "python",
   "name": "python3"
  },
  "language_info": {
   "codemirror_mode": {
    "name": "ipython",
    "version": 3
   },
   "file_extension": ".py",
   "mimetype": "text/x-python",
   "name": "python",
   "nbconvert_exporter": "python",
   "pygments_lexer": "ipython3",
   "version": "3.12.4"
  }
 },
 "nbformat": 4,
 "nbformat_minor": 5
}
